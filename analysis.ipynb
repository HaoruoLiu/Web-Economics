{
 "cells": [
  {
   "cell_type": "code",
   "execution_count": 23,
   "metadata": {
    "collapsed": true
   },
   "outputs": [],
   "source": [
    "import pandas as pd\n",
    "import numpy as np\n",
    "import matplotlib.pyplot as plt\n",
    "from matplotlib.ticker import MultipleLocator, FormatStrFormatter\n",
    "%matplotlib inline\n",
    "import seaborn as sns\n",
    "sns.set(style=\"whitegrid\")"
   ]
  },
  {
   "cell_type": "code",
   "execution_count": 24,
   "metadata": {
    "collapsed": false
   },
   "outputs": [],
   "source": [
    "pCTR = pd.read_csv('need_download.csv')\n",
    "validation =pd.read_csv('dataset/validation.csv')\n",
    "train = pd.read_csv('dataset/train.csv')"
   ]
  },
  {
   "cell_type": "code",
   "execution_count": 25,
   "metadata": {
    "collapsed": false
   },
   "outputs": [],
   "source": [
    "pCTR = pCTR.drop(['Index'],axis = 1)"
   ]
  },
  {
   "cell_type": "code",
   "execution_count": 26,
   "metadata": {
    "collapsed": false
   },
   "outputs": [],
   "source": [
    "payprice = validation.payprice\n",
    "click = validation.click"
   ]
  },
  {
   "cell_type": "code",
   "execution_count": 27,
   "metadata": {
    "collapsed": false
   },
   "outputs": [],
   "source": [
    "# Average CTR\n",
    "avgCTR = (train.click.sum() / train.logtype.sum())\n",
    "avgPays=(train.payprice.sum()/len(train.payprice))\n",
    "maxPays = max(train.payprice)\n",
    "avgBidss=(train.bidprice.sum()/len(train.bidprice))\n",
    "maxBidss = max(train.bidprice)"
   ]
  },
  {
   "cell_type": "code",
   "execution_count": 28,
   "metadata": {
    "collapsed": false
   },
   "outputs": [],
   "source": [
    "def powerbid(base,power):\n",
    "    impression = 0.0\n",
    "    clicks = 0\n",
    "    cost = 0.0\n",
    "    budget = 6250000\n",
    "    bid = base*(pCTR.pCTR/avgCTR)**power\n",
    "    bool_check = bid >= payprice\n",
    "    for i in range(0,len(bool_check)):\n",
    "            if bool_check[i]==True:\n",
    "                impression += 1.0\n",
    "                clicks += validation.click[i]\n",
    "                cost += validation.payprice[i]\n",
    "                if cost >= budget:\n",
    "                    break\n",
    "    print('impression:',impression)\n",
    "    print('clicks:',clicks)\n",
    "    print('cost:',cost)\n",
    "    return [impression, clicks, cost]"
   ]
  },
  {
   "cell_type": "code",
   "execution_count": 29,
   "metadata": {
    "collapsed": true
   },
   "outputs": [],
   "source": [
    "def logbid(base):\n",
    "    impression = 0.0\n",
    "    clicks = 0\n",
    "    cost = 0.0\n",
    "    budget = 6250000\n",
    "    bid = base*np.log2((pCTR.pCTR/avgCTR))\n",
    "    bool_check = bid >= payprice\n",
    "    for i in range(0,len(bool_check)):\n",
    "            if bool_check[i]==True:\n",
    "                impression += 1.0\n",
    "                clicks += validation.click[i]\n",
    "                cost += validation.payprice[i]\n",
    "                if cost >= budget:\n",
    "                    break\n",
    "    print('impression:',impression)\n",
    "    print('clicks:',clicks)\n",
    "    print('cost:',cost)\n",
    "    return [impression, clicks, cost]"
   ]
  },
  {
   "cell_type": "code",
   "execution_count": 30,
   "metadata": {
    "collapsed": false
   },
   "outputs": [
    {
     "name": "stdout",
     "output_type": "stream",
     "text": [
      "impression: 88148.0\n",
      "clicks: 86\n",
      "cost: 5038594.0\n"
     ]
    },
    {
     "data": {
      "text/plain": [
       "[88148.0, 86, 5038594.0]"
      ]
     },
     "execution_count": 30,
     "metadata": {},
     "output_type": "execute_result"
    }
   ],
   "source": [
    "logbid(40)"
   ]
  },
  {
   "cell_type": "code",
   "execution_count": 129,
   "metadata": {
    "collapsed": false
   },
   "outputs": [
    {
     "name": "stdout",
     "output_type": "stream",
     "text": [
      "impression: 97785.0\n",
      "clicks: 94\n",
      "cost: 5672556.0\n"
     ]
    },
    {
     "data": {
      "text/plain": [
       "[97785.0, 94, 5672556.0]"
      ]
     },
     "execution_count": 129,
     "metadata": {},
     "output_type": "execute_result"
    }
   ],
   "source": [
    "logbid(50)"
   ]
  },
  {
   "cell_type": "code",
   "execution_count": 130,
   "metadata": {
    "collapsed": false
   },
   "outputs": [
    {
     "name": "stdout",
     "output_type": "stream",
     "text": [
      "impression: 105584.0\n",
      "clicks: 102\n",
      "cost: 6250032.0\n"
     ]
    },
    {
     "data": {
      "text/plain": [
       "[105584.0, 102, 6250032.0]"
      ]
     },
     "execution_count": 130,
     "metadata": {},
     "output_type": "execute_result"
    }
   ],
   "source": [
    "logbid(60)"
   ]
  },
  {
   "cell_type": "code",
   "execution_count": 131,
   "metadata": {
    "collapsed": false
   },
   "outputs": [
    {
     "name": "stdout",
     "output_type": "stream",
     "text": [
      "impression: 99663.0\n",
      "clicks: 106\n",
      "cost: 6250110.0\n"
     ]
    },
    {
     "data": {
      "text/plain": [
       "[99663.0, 106, 6250110.0]"
      ]
     },
     "execution_count": 131,
     "metadata": {},
     "output_type": "execute_result"
    }
   ],
   "source": [
    "logbid(90)"
   ]
  },
  {
   "cell_type": "code",
   "execution_count": 133,
   "metadata": {
    "collapsed": false
   },
   "outputs": [
    {
     "name": "stdout",
     "output_type": "stream",
     "text": [
      "impression: 101412.0\n",
      "clicks: 105\n",
      "cost: 6250002.0\n"
     ]
    },
    {
     "data": {
      "text/plain": [
       "[101412.0, 105, 6250002.0]"
      ]
     },
     "execution_count": 133,
     "metadata": {},
     "output_type": "execute_result"
    }
   ],
   "source": [
    "logbid(80)"
   ]
  },
  {
   "cell_type": "code",
   "execution_count": 135,
   "metadata": {
    "collapsed": false
   },
   "outputs": [
    {
     "name": "stdout",
     "output_type": "stream",
     "text": [
      "impression: 99663.0\n",
      "clicks: 106\n",
      "cost: 6250110.0\n",
      "CTR: 0.11\n",
      "CPM: 6271.24\n",
      "CPC: 58963.3\n"
     ]
    }
   ],
   "source": [
    "g = logbid(90)\n",
    "CTR = (g[1]/g[0] * 100).round(2).astype(str)\n",
    "CPM = (g[2]/ g[0]* 100).round(2).astype(str)\n",
    "CPC = (g[2]/g[1]).round(2).astype(str)\n",
    "print('CTR:',CTR)\n",
    "print('CPM:',CPM)\n",
    "print('CPC:',CPC)"
   ]
  },
  {
   "cell_type": "code",
   "execution_count": null,
   "metadata": {
    "collapsed": true
   },
   "outputs": [],
   "source": []
  },
  {
   "cell_type": "code",
   "execution_count": 7,
   "metadata": {
    "collapsed": false
   },
   "outputs": [
    {
     "name": "stdout",
     "output_type": "stream",
     "text": [
      "impression: 77376.0\n",
      "clicks: 75\n",
      "cost: 6250004.0\n"
     ]
    },
    {
     "data": {
      "text/plain": [
       "[77376.0, 75, 6250004.0]"
      ]
     },
     "execution_count": 7,
     "metadata": {},
     "output_type": "execute_result"
    }
   ],
   "source": [
    "powerbid(2,200)\n"
   ]
  },
  {
   "cell_type": "code",
   "execution_count": 8,
   "metadata": {
    "collapsed": false
   },
   "outputs": [],
   "source": [
    "minBidss = min(train.bidprice)"
   ]
  },
  {
   "cell_type": "code",
   "execution_count": 9,
   "metadata": {
    "collapsed": false
   },
   "outputs": [
    {
     "name": "stdout",
     "output_type": "stream",
     "text": [
      "13\n",
      "7\n"
     ]
    }
   ],
   "source": [
    "base_bid= np.arange(80,340,20)\n",
    "powpara = np.arange(0.5,4,0.5)\n",
    "print(len(base_bid))\n",
    "print(len(powpara))"
   ]
  },
  {
   "cell_type": "code",
   "execution_count": 10,
   "metadata": {
    "collapsed": false
   },
   "outputs": [
    {
     "name": "stdout",
     "output_type": "stream",
     "text": [
      "impression: 83038.0\n",
      "clicks: 70\n",
      "cost: 6250028.0\n"
     ]
    }
   ],
   "source": [
    "g = powerbid(200,2)"
   ]
  },
  {
   "cell_type": "code",
   "execution_count": 11,
   "metadata": {
    "collapsed": false
   },
   "outputs": [
    {
     "data": {
      "text/plain": [
       "90"
      ]
     },
     "execution_count": 11,
     "metadata": {},
     "output_type": "execute_result"
    }
   ],
   "source": [
    "len(range(1,91))"
   ]
  },
  {
   "cell_type": "code",
   "execution_count": 8,
   "metadata": {
    "collapsed": false
   },
   "outputs": [],
   "source": [
    "base_bid= np.arange(20,321,50)\n",
    "powpara = np.arange(0.5,2.5,0.5)\n",
    "bid_pow = pd.DataFrame()\n",
    "im = np.ones(49)\n",
    "clks = np.zeros(49)\n",
    "ct = np.zeros(49)\n",
    "\n",
    "# for i in range(0,49):\n",
    "#     for base in base_bid:\n",
    "#         for power in powpara: \n",
    "#             print('base:',base,'power:',power)\n",
    "#             g = powerbid(base,power)\n",
    "#             im[i]=g[0]\n",
    "#             clks[i] = g[1]\n",
    "#             ct[i]=g[2]\n",
    "            "
   ]
  },
  {
   "cell_type": "code",
   "execution_count": null,
   "metadata": {
    "collapsed": false
   },
   "outputs": [],
   "source": []
  },
  {
   "cell_type": "code",
   "execution_count": 24,
   "metadata": {
    "collapsed": false
   },
   "outputs": [
    {
     "name": "stdout",
     "output_type": "stream",
     "text": [
      "impression: 111312.0\n",
      "clicks: 90\n",
      "cost: 6250017.0\n",
      "CTR: 0.81\n",
      "CPM: 56148.64\n",
      "CPC: 69444.63\n"
     ]
    }
   ],
   "source": [
    "g = powerbid(80,0.5)\n",
    "CTR = (g[1]/g[0] * 1000).round(2).astype(str)\n",
    "CPM = (g[2]/ g[0]* 1000).round(2).astype(str)\n",
    "CPC = (g[2]/g[1]).round(2).astype(str)\n",
    "print('CTR:',CTR)\n",
    "print('CPM:',CPM)\n",
    "print('CPC:',CPC)"
   ]
  },
  {
   "cell_type": "code",
   "execution_count": 25,
   "metadata": {
    "collapsed": false
   },
   "outputs": [
    {
     "name": "stdout",
     "output_type": "stream",
     "text": [
      "impression: 134950.0\n",
      "clicks: 97\n",
      "cost: 6250005.0\n",
      "CTR: 0.72\n",
      "CPM: 46313.49\n",
      "CPC: 64433.04\n"
     ]
    }
   ],
   "source": [
    "g = powerbid(40,0.5)\n",
    "CTR = (g[1]/g[0] * 1000).round(2).astype(str)\n",
    "CPM = (g[2]/ g[0]* 1000).round(2).astype(str)\n",
    "CPC = (g[2]/g[1]).round(2).astype(str)\n",
    "print('CTR:',CTR)\n",
    "print('CPM:',CPM)\n",
    "print('CPC:',CPC)"
   ]
  },
  {
   "cell_type": "code",
   "execution_count": 26,
   "metadata": {
    "collapsed": false
   },
   "outputs": [
    {
     "name": "stdout",
     "output_type": "stream",
     "text": [
      "impression: 91880.0\n",
      "clicks: 71\n",
      "cost: 4621646.0\n",
      "CTR: 0.77\n",
      "CPM: 50300.89\n",
      "CPC: 65093.61\n"
     ]
    }
   ],
   "source": [
    "g = powerbid(20,0.5)\n",
    "CTR = (g[1]/g[0] * 1000).round(2).astype(str)\n",
    "CPM = (g[2]/ g[0]* 1000).round(2).astype(str)\n",
    "CPC = (g[2]/g[1]).round(2).astype(str)\n",
    "print('CTR:',CTR)\n",
    "print('CPM:',CPM)\n",
    "print('CPC:',CPC)"
   ]
  },
  {
   "cell_type": "code",
   "execution_count": 27,
   "metadata": {
    "collapsed": false
   },
   "outputs": [
    {
     "name": "stdout",
     "output_type": "stream",
     "text": [
      "impression: 90691.0\n",
      "clicks: 78\n",
      "cost: 6250016.0\n",
      "CTR: 0.86\n",
      "CPM: 68915.5\n",
      "CPC: 80128.41\n"
     ]
    }
   ],
   "source": [
    "g = powerbid(160,0.5)\n",
    "CTR = (g[1]/g[0] * 1000).round(2).astype(str)\n",
    "CPM = (g[2]/ g[0]* 1000).round(2).astype(str)\n",
    "CPC = (g[2]/g[1]).round(2).astype(str)\n",
    "print('CTR:',CTR)\n",
    "print('CPM:',CPM)\n",
    "print('CPC:',CPC)"
   ]
  },
  {
   "cell_type": "code",
   "execution_count": 28,
   "metadata": {
    "collapsed": false
   },
   "outputs": [
    {
     "name": "stdout",
     "output_type": "stream",
     "text": [
      "impression: 92207.0\n",
      "clicks: 83\n",
      "cost: 6250015.0\n",
      "CTR: 0.9\n",
      "CPM: 67782.44\n",
      "CPC: 75301.39\n"
     ]
    }
   ],
   "source": [
    "g = powerbid(80,2)\n",
    "CTR = (g[1]/g[0] * 1000).round(2).astype(str)\n",
    "CPM = (g[2]/ g[0]* 1000).round(2).astype(str)\n",
    "CPC = (g[2]/g[1]).round(2).astype(str)\n",
    "print('CTR:',CTR)\n",
    "print('CPM:',CPM)\n",
    "print('CPC:',CPC)"
   ]
  },
  {
   "cell_type": "code",
   "execution_count": 29,
   "metadata": {
    "collapsed": false
   },
   "outputs": [
    {
     "name": "stdout",
     "output_type": "stream",
     "text": [
      "impression: 97797.0\n",
      "clicks: 92\n",
      "cost: 6250160.0\n",
      "CTR: 0.94\n",
      "CPM: 63909.53\n",
      "CPC: 67936.52\n"
     ]
    }
   ],
   "source": [
    "g = powerbid(40,2)\n",
    "CTR = (g[1]/g[0] * 1000).round(2).astype(str)\n",
    "CPM = (g[2]/ g[0]* 1000).round(2).astype(str)\n",
    "CPC = (g[2]/g[1]).round(2).astype(str)\n",
    "print('CTR:',CTR)\n",
    "print('CPM:',CPM)\n",
    "print('CPC:',CPC)"
   ]
  },
  {
   "cell_type": "code",
   "execution_count": 31,
   "metadata": {
    "collapsed": false
   },
   "outputs": [
    {
     "name": "stdout",
     "output_type": "stream",
     "text": [
      "impression: 99079.0\n",
      "clicks: 100\n",
      "cost: 6250086.0\n",
      "CTR: 1.01\n",
      "CPM: 63081.84\n",
      "CPC: 62500.86\n"
     ]
    }
   ],
   "source": [
    "g = powerbid(20,2)\n",
    "CTR = (g[1]/g[0] * 1000).round(2).astype(str)\n",
    "CPM = (g[2]/ g[0]* 1000).round(2).astype(str)\n",
    "CPC = (g[2]/g[1]).round(2).astype(str)\n",
    "print('CTR:',CTR)\n",
    "print('CPM:',CPM)\n",
    "print('CPC:',CPC)"
   ]
  },
  {
   "cell_type": "code",
   "execution_count": 32,
   "metadata": {
    "collapsed": false
   },
   "outputs": [
    {
     "name": "stdout",
     "output_type": "stream",
     "text": [
      "impression: 85027.0\n",
      "clicks: 73\n",
      "cost: 6250044.0\n",
      "CTR: 0.86\n",
      "CPM: 73506.58\n",
      "CPC: 85617.04\n"
     ]
    }
   ],
   "source": [
    "g = powerbid(160,2)\n",
    "CTR = (g[1]/g[0] * 1000).round(2).astype(str)\n",
    "CPM = (g[2]/ g[0]* 1000).round(2).astype(str)\n",
    "CPC = (g[2]/g[1]).round(2).astype(str)\n",
    "print('CTR:',CTR)\n",
    "print('CPM:',CPM)\n",
    "print('CPC:',CPC)"
   ]
  },
  {
   "cell_type": "code",
   "execution_count": 33,
   "metadata": {
    "collapsed": false
   },
   "outputs": [
    {
     "name": "stdout",
     "output_type": "stream",
     "text": [
      "impression: 109443.0\n",
      "clicks: 99\n",
      "cost: 6250004.0\n",
      "CTR: 0.9\n",
      "CPM: 57107.39\n",
      "CPC: 63131.35\n"
     ]
    }
   ],
   "source": [
    "g = powerbid(20,1.5)\n",
    "CTR = (g[1]/g[0] * 1000).round(2).astype(str)\n",
    "CPM = (g[2]/ g[0]* 1000).round(2).astype(str)\n",
    "CPC = (g[2]/g[1]).round(2).astype(str)\n",
    "print('CTR:',CTR)\n",
    "print('CPM:',CPM)\n",
    "print('CPC:',CPC)"
   ]
  },
  {
   "cell_type": "code",
   "execution_count": 34,
   "metadata": {
    "collapsed": false
   },
   "outputs": [
    {
     "name": "stdout",
     "output_type": "stream",
     "text": [
      "impression: 103214.0\n",
      "clicks: 97\n",
      "cost: 6250019.0\n",
      "CTR: 0.94\n",
      "CPM: 60553.98\n",
      "CPC: 64433.19\n"
     ]
    }
   ],
   "source": [
    "g = powerbid(40,1.5)\n",
    "CTR = (g[1]/g[0] * 1000).round(2).astype(str)\n",
    "CPM = (g[2]/ g[0]* 1000).round(2).astype(str)\n",
    "CPC = (g[2]/g[1]).round(2).astype(str)\n",
    "print('CTR:',CTR)\n",
    "print('CPM:',CPM)\n",
    "print('CPC:',CPC)"
   ]
  },
  {
   "cell_type": "code",
   "execution_count": 35,
   "metadata": {
    "collapsed": false
   },
   "outputs": [
    {
     "name": "stdout",
     "output_type": "stream",
     "text": [
      "impression: 95459.0\n",
      "clicks: 83\n",
      "cost: 6250239.0\n",
      "CTR: 0.87\n",
      "CPM: 65475.64\n",
      "CPC: 75304.08\n"
     ]
    }
   ],
   "source": [
    "g = powerbid(80,1.5)\n",
    "CTR = (g[1]/g[0] * 1000).round(2).astype(str)\n",
    "CPM = (g[2]/ g[0]* 1000).round(2).astype(str)\n",
    "CPC = (g[2]/g[1]).round(2).astype(str)\n",
    "print('CTR:',CTR)\n",
    "print('CPM:',CPM)\n",
    "print('CPC:',CPC)"
   ]
  },
  {
   "cell_type": "code",
   "execution_count": 36,
   "metadata": {
    "collapsed": false
   },
   "outputs": [
    {
     "name": "stdout",
     "output_type": "stream",
     "text": [
      "impression: 86179.0\n",
      "clicks: 73\n",
      "cost: 6250205.0\n",
      "CTR: 0.85\n",
      "CPM: 72525.85\n",
      "CPC: 85619.25\n"
     ]
    }
   ],
   "source": [
    "g = powerbid(160,1.5)\n",
    "CTR = (g[1]/g[0] * 1000).round(2).astype(str)\n",
    "CPM = (g[2]/ g[0]* 1000).round(2).astype(str)\n",
    "CPC = (g[2]/g[1]).round(2).astype(str)\n",
    "print('CTR:',CTR)\n",
    "print('CPM:',CPM)\n",
    "print('CPC:',CPC)"
   ]
  },
  {
   "cell_type": "code",
   "execution_count": 37,
   "metadata": {
    "collapsed": false
   },
   "outputs": [
    {
     "name": "stdout",
     "output_type": "stream",
     "text": [
      "impression: 91740.0\n",
      "clicks: 95\n",
      "cost: 6250004.0\n",
      "CTR: 1.04\n",
      "CPM: 68127.36\n",
      "CPC: 65789.52\n"
     ]
    }
   ],
   "source": [
    "g = powerbid(20,3)\n",
    "CTR = (g[1]/g[0] * 1000).round(2).astype(str)\n",
    "CPM = (g[2]/ g[0]* 1000).round(2).astype(str)\n",
    "CPC = (g[2]/g[1]).round(2).astype(str)\n",
    "print('CTR:',CTR)\n",
    "print('CPM:',CPM)\n",
    "print('CPC:',CPC)"
   ]
  },
  {
   "cell_type": "code",
   "execution_count": 38,
   "metadata": {
    "collapsed": false
   },
   "outputs": [
    {
     "name": "stdout",
     "output_type": "stream",
     "text": [
      "impression: 92050.0\n",
      "clicks: 86\n",
      "cost: 6250018.0\n",
      "CTR: 0.93\n",
      "CPM: 67898.08\n",
      "CPC: 72674.63\n"
     ]
    }
   ],
   "source": [
    "g = powerbid(40,3)\n",
    "CTR = (g[1]/g[0] * 1000).round(2).astype(str)\n",
    "CPM = (g[2]/ g[0]* 1000).round(2).astype(str)\n",
    "CPC = (g[2]/g[1]).round(2).astype(str)\n",
    "print('CTR:',CTR)\n",
    "print('CPM:',CPM)\n",
    "print('CPC:',CPC)"
   ]
  },
  {
   "cell_type": "code",
   "execution_count": 39,
   "metadata": {
    "collapsed": false
   },
   "outputs": [
    {
     "name": "stdout",
     "output_type": "stream",
     "text": [
      "impression: 88797.0\n",
      "clicks: 78\n",
      "cost: 6250167.0\n",
      "CTR: 0.88\n",
      "CPM: 70387.14\n",
      "CPC: 80130.35\n"
     ]
    }
   ],
   "source": [
    "g = powerbid(80,3)\n",
    "CTR = (g[1]/g[0] * 1000).round(2).astype(str)\n",
    "CPM = (g[2]/ g[0]* 1000).round(2).astype(str)\n",
    "CPC = (g[2]/g[1]).round(2).astype(str)\n",
    "print('CTR:',CTR)\n",
    "print('CPM:',CPM)\n",
    "print('CPC:',CPC)"
   ]
  },
  {
   "cell_type": "code",
   "execution_count": 40,
   "metadata": {
    "collapsed": false
   },
   "outputs": [
    {
     "name": "stdout",
     "output_type": "stream",
     "text": [
      "impression: 83440.0\n",
      "clicks: 73\n",
      "cost: 6250034.0\n",
      "CTR: 0.87\n",
      "CPM: 74904.53\n",
      "CPC: 85616.9\n"
     ]
    }
   ],
   "source": [
    "g = powerbid(160,3)\n",
    "CTR = (g[1]/g[0] * 1000).round(2).astype(str)\n",
    "CPM = (g[2]/ g[0]* 1000).round(2).astype(str)\n",
    "CPC = (g[2]/g[1]).round(2).astype(str)\n",
    "print('CTR:',CTR)\n",
    "print('CPM:',CPM)\n",
    "print('CPC:',CPC)"
   ]
  },
  {
   "cell_type": "code",
   "execution_count": 41,
   "metadata": {
    "collapsed": false
   },
   "outputs": [
    {
     "name": "stdout",
     "output_type": "stream",
     "text": [
      "impression: 103713.0\n",
      "clicks: 94\n",
      "cost: 5377187.0\n",
      "CTR: 0.91\n",
      "CPM: 51846.8\n",
      "CPC: 57204.12\n"
     ]
    }
   ],
   "source": [
    "g = powerbid(20,1)\n",
    "CTR = (g[1]/g[0] * 1000).round(2).astype(str)\n",
    "CPM = (g[2]/ g[0]* 1000).round(2).astype(str)\n",
    "CPC = (g[2]/g[1]).round(2).astype(str)\n",
    "print('CTR:',CTR)\n",
    "print('CPM:',CPM)\n",
    "print('CPC:',CPC)"
   ]
  },
  {
   "cell_type": "code",
   "execution_count": 42,
   "metadata": {
    "collapsed": false
   },
   "outputs": [
    {
     "name": "stdout",
     "output_type": "stream",
     "text": [
      "impression: 115947.0\n",
      "clicks: 103\n",
      "cost: 6250008.0\n",
      "CTR: 0.89\n",
      "CPM: 53904.01\n",
      "CPC: 60679.69\n"
     ]
    }
   ],
   "source": [
    "g = powerbid(40,1)\n",
    "CTR = (g[1]/g[0] * 1000).round(2).astype(str)\n",
    "CPM = (g[2]/ g[0]* 1000).round(2).astype(str)\n",
    "CPC = (g[2]/g[1]).round(2).astype(str)\n",
    "print('CTR:',CTR)\n",
    "print('CPM:',CPM)\n",
    "print('CPC:',CPC)"
   ]
  },
  {
   "cell_type": "code",
   "execution_count": 43,
   "metadata": {
    "collapsed": false
   },
   "outputs": [
    {
     "name": "stdout",
     "output_type": "stream",
     "text": [
      "impression: 100433.0\n",
      "clicks: 84\n",
      "cost: 6250000.0\n",
      "CTR: 0.84\n",
      "CPM: 62230.54\n",
      "CPC: 74404.76\n"
     ]
    }
   ],
   "source": [
    "g = powerbid(80,1)\n",
    "CTR = (g[1]/g[0] * 1000).round(2).astype(str)\n",
    "CPM = (g[2]/ g[0]* 1000).round(2).astype(str)\n",
    "CPC = (g[2]/g[1]).round(2).astype(str)\n",
    "print('CTR:',CTR)\n",
    "print('CPM:',CPM)\n",
    "print('CPC:',CPC)"
   ]
  },
  {
   "cell_type": "code",
   "execution_count": 44,
   "metadata": {
    "collapsed": false
   },
   "outputs": [
    {
     "name": "stdout",
     "output_type": "stream",
     "text": [
      "impression: 87791.0\n",
      "clicks: 74\n",
      "cost: 6250080.0\n",
      "CTR: 0.84\n",
      "CPM: 71192.72\n",
      "CPC: 84460.54\n"
     ]
    }
   ],
   "source": [
    "g = powerbid(160,1)\n",
    "CTR = (g[1]/g[0] * 1000).round(2).astype(str)\n",
    "CPM = (g[2]/ g[0]* 1000).round(2).astype(str)\n",
    "CPC = (g[2]/g[1]).round(2).astype(str)\n",
    "print('CTR:',CTR)\n",
    "print('CPM:',CPM)\n",
    "print('CPC:',CPC)"
   ]
  },
  {
   "cell_type": "code",
   "execution_count": 48,
   "metadata": {
    "collapsed": false
   },
   "outputs": [
    {
     "name": "stdout",
     "output_type": "stream",
     "text": [
      "impression: 94459.0\n",
      "clicks: 101\n",
      "cost: 6250017.0\n",
      "CTR: 1.07\n",
      "CPM: 66166.45\n",
      "CPC: 61881.36\n"
     ]
    }
   ],
   "source": [
    "g = powerbid(20,2.5)\n",
    "CTR = (g[1]/g[0] * 1000).round(2).astype(str)\n",
    "CPM = (g[2]/ g[0]* 1000).round(2).astype(str)\n",
    "CPC = (g[2]/g[1]).round(2).astype(str)\n",
    "print('CTR:',CTR)\n",
    "print('CPM:',CPM)\n",
    "print('CPC:',CPC)"
   ]
  },
  {
   "cell_type": "code",
   "execution_count": 49,
   "metadata": {
    "collapsed": false
   },
   "outputs": [
    {
     "name": "stdout",
     "output_type": "stream",
     "text": [
      "impression: 94279.0\n",
      "clicks: 89\n",
      "cost: 6250007.0\n",
      "CTR: 0.94\n",
      "CPM: 66292.67\n",
      "CPC: 70224.8\n"
     ]
    }
   ],
   "source": [
    "g = powerbid(40,2.5)\n",
    "CTR = (g[1]/g[0] * 1000).round(2).astype(str)\n",
    "CPM = (g[2]/ g[0]* 1000).round(2).astype(str)\n",
    "CPC = (g[2]/g[1]).round(2).astype(str)\n",
    "print('CTR:',CTR)\n",
    "print('CPM:',CPM)\n",
    "print('CPC:',CPC)"
   ]
  },
  {
   "cell_type": "code",
   "execution_count": 50,
   "metadata": {
    "collapsed": false
   },
   "outputs": [
    {
     "name": "stdout",
     "output_type": "stream",
     "text": [
      "impression: 90086.0\n",
      "clicks: 79\n",
      "cost: 6250003.0\n",
      "CTR: 0.88\n",
      "CPM: 69378.18\n",
      "CPC: 79113.96\n"
     ]
    }
   ],
   "source": [
    "g = powerbid(80,2.5)\n",
    "CTR = (g[1]/g[0] * 1000).round(2).astype(str)\n",
    "CPM = (g[2]/ g[0]* 1000).round(2).astype(str)\n",
    "CPC = (g[2]/g[1]).round(2).astype(str)\n",
    "print('CTR:',CTR)\n",
    "print('CPM:',CPM)\n",
    "print('CPC:',CPC)"
   ]
  },
  {
   "cell_type": "code",
   "execution_count": 51,
   "metadata": {
    "collapsed": false
   },
   "outputs": [
    {
     "name": "stdout",
     "output_type": "stream",
     "text": [
      "impression: 84066.0\n",
      "clicks: 73\n",
      "cost: 6250060.0\n",
      "CTR: 0.87\n",
      "CPM: 74347.06\n",
      "CPC: 85617.26\n"
     ]
    }
   ],
   "source": [
    "g = powerbid(160,2.5)\n",
    "CTR = (g[1]/g[0] * 1000).round(2).astype(str)\n",
    "CPM = (g[2]/ g[0]* 1000).round(2).astype(str)\n",
    "CPC = (g[2]/g[1]).round(2).astype(str)\n",
    "print('CTR:',CTR)\n",
    "print('CPM:',CPM)\n",
    "print('CPC:',CPC)"
   ]
  },
  {
   "cell_type": "code",
   "execution_count": 139,
   "metadata": {
    "collapsed": false
   },
   "outputs": [
    {
     "name": "stdout",
     "output_type": "stream",
     "text": [
      "impression: 100866.0\n",
      "clicks: 91\n",
      "cost: 6250121.0\n",
      "CTR: 0.09\n",
      "CPM: 6196.46\n",
      "CPC: 68682.65\n"
     ]
    }
   ],
   "source": [
    "g = powerbid(50,1.5,1)\n",
    "CTR = (g[1]/g[0] * 100).round(2).astype(str)\n",
    "CPM = (g[2]/ g[0]* 100).round(2).astype(str)\n",
    "CPC = (g[2]/g[1]).round(2).astype(str)\n",
    "print('CTR:',CTR)\n",
    "print('CPM:',CPM)\n",
    "print('CPC:',CPC)"
   ]
  },
  {
   "cell_type": "code",
   "execution_count": 113,
   "metadata": {
    "collapsed": false
   },
   "outputs": [],
   "source": [
    "power = [0.5,1,1.5,2,2.5,3]\n",
    "click = [97,103,97,92,89,86]\n",
    "ctr = [0.072,0.089,0.094,0.094,0.094,0.093]\n",
    "imp = [134950,115947,103214,97797,94279,92050]\n",
    "cpc = [64433,60680,64433,67936.53,70225,72675]"
   ]
  },
  {
   "cell_type": "code",
   "execution_count": 114,
   "metadata": {
    "collapsed": false
   },
   "outputs": [
    {
     "data": {
      "image/png": "[encoded data removed]",
      "text/plain": [
       "<matplotlib.figure.Figure at 0x117b0efd0>"
      ]
     },
     "metadata": {},
     "output_type": "display_data"
    }
   ],
   "source": [
    "fig, ax1 = plt.subplots()\n",
    "\n",
    "ax2 = ax1.twinx()\n",
    "ax1.plot(power, imp, 'r-')\n",
    "ax2.plot(power, cpc, 'b-')\n",
    "\n",
    "ax1.set_xlabel('Power')\n",
    "ax1.set_ylabel('imps', color='r')\n",
    "ax2.set_ylabel('CPC', color='b')\n",
    "\n",
    "plt.show()"
   ]
  },
  {
   "cell_type": "code",
   "execution_count": null,
   "metadata": {
    "collapsed": true
   },
   "outputs": [],
   "source": []
  },
  {
   "cell_type": "code",
   "execution_count": 115,
   "metadata": {
    "collapsed": false
   },
   "outputs": [
    {
     "data": {
      "image/png": "[encoded data removed]",
      "text/plain": [
       "<matplotlib.figure.Figure at 0x11747e5c0>"
      ]
     },
     "metadata": {},
     "output_type": "display_data"
    }
   ],
   "source": [
    "fig, ax1 = plt.subplots()\n",
    "\n",
    "ax2 = ax1.twinx()\n",
    "ax1.plot(power, click, 'r-')\n",
    "ax2.plot(power, ctr, 'b-')\n",
    "\n",
    "ax1.set_xlabel('Power')\n",
    "ax1.set_ylabel('Click', color='r')\n",
    "ax2.set_ylabel('CTR', color='b')\n",
    "\n",
    "plt.show()"
   ]
  },
  {
   "cell_type": "code",
   "execution_count": 31,
   "metadata": {
    "collapsed": true
   },
   "outputs": [],
   "source": [
    "def powerbid2(base,power,bud):\n",
    "    impression = 0.0\n",
    "    clicks = 0\n",
    "    cost = 0.0\n",
    "    budget = 6250000*bud\n",
    "    bid = base*(pCTR.pCTR/avgCTR)**power\n",
    "    bool_check = bid >= payprice\n",
    "    for i in range(0,len(bool_check)):\n",
    "            if bool_check[i]==True:\n",
    "                impression += 1.0\n",
    "                clicks += validation.click[i]\n",
    "                cost += validation.payprice[i]\n",
    "                if cost >= budget:\n",
    "                    break\n",
    "    print('impression:',impression)\n",
    "    print('clicks:',clicks)\n",
    "    print('cost:',cost)\n",
    "    return [impression, clicks, cost]"
   ]
  },
  {
   "cell_type": "code",
   "execution_count": 150,
   "metadata": {
    "collapsed": false
   },
   "outputs": [
    {
     "name": "stdout",
     "output_type": "stream",
     "text": [
      "impression: 109820.0\n",
      "clicks: 100\n",
      "cost: 6250025.0\n",
      "CTR: 0.91\n",
      "CPM: 56911.54\n",
      "CPC: 62500.25\n"
     ]
    }
   ],
   "source": [
    "g = powerbid(25,1.5)\n",
    "CTR = (g[1]/g[0] * 1000).round(2).astype(str)\n",
    "CPM = (g[2]/ g[0]* 1000).round(2).astype(str)\n",
    "CPC = (g[2]/g[1]).round(2).astype(str)\n",
    "print('CTR:',CTR)\n",
    "print('CPM:',CPM)\n",
    "print('CPC:',CPC)"
   ]
  },
  {
   "cell_type": "code",
   "execution_count": 104,
   "metadata": {
    "collapsed": false
   },
   "outputs": [
    {
     "name": "stdout",
     "output_type": "stream",
     "text": [
      "impression: 51641.0\n",
      "clicks: 56\n",
      "cost: 3125013.0\n",
      "CTR: 1.08\n",
      "CPM: 60514.18\n",
      "CPC: 55803.8\n"
     ]
    }
   ],
   "source": [
    "g = powerbid2(40,1.5,1/2)\n",
    "CTR = (g[1]/g[0] * 1000).round(2).astype(str)\n",
    "CPM = (g[2]/ g[0]* 1000).round(2).astype(str)\n",
    "CPC = (g[2]/g[1]).round(2).astype(str)\n",
    "print('CTR:',CTR)\n",
    "print('CPM:',CPM)\n",
    "print('CPC:',CPC)"
   ]
  },
  {
   "cell_type": "code",
   "execution_count": 105,
   "metadata": {
    "collapsed": false
   },
   "outputs": [
    {
     "name": "stdout",
     "output_type": "stream",
     "text": [
      "impression: 25558.0\n",
      "clicks: 31\n",
      "cost: 1562508.0\n",
      "CTR: 1.21\n",
      "CPM: 61135.77\n",
      "CPC: 50403.48\n"
     ]
    }
   ],
   "source": [
    "g = powerbid2(40,1.5,1/4)\n",
    "CTR = (g[1]/g[0] * 1000).round(2).astype(str)\n",
    "CPM = (g[2]/ g[0]* 1000).round(2).astype(str)\n",
    "CPC = (g[2]/g[1]).round(2).astype(str)\n",
    "print('CTR:',CTR)\n",
    "print('CPM:',CPM)\n",
    "print('CPC:',CPC)"
   ]
  },
  {
   "cell_type": "code",
   "execution_count": 106,
   "metadata": {
    "collapsed": false
   },
   "outputs": [
    {
     "name": "stdout",
     "output_type": "stream",
     "text": [
      "impression: 12785.0\n",
      "clicks: 16\n",
      "cost: 781253.0\n",
      "CTR: 1.25\n",
      "CPM: 61107.0\n",
      "CPC: 48828.31\n"
     ]
    }
   ],
   "source": [
    "g = powerbid2(40,1.5,1/8)\n",
    "CTR = (g[1]/g[0] * 1000).round(2).astype(str)\n",
    "CPM = (g[2]/ g[0]* 1000).round(2).astype(str)\n",
    "CPC = (g[2]/g[1]).round(2).astype(str)\n",
    "print('CTR:',CTR)\n",
    "print('CPM:',CPM)\n",
    "print('CPC:',CPC)"
   ]
  },
  {
   "cell_type": "code",
   "execution_count": 107,
   "metadata": {
    "collapsed": false
   },
   "outputs": [
    {
     "name": "stdout",
     "output_type": "stream",
     "text": [
      "impression: 6409.0\n",
      "clicks: 9\n",
      "cost: 390627.0\n",
      "CTR: 1.4\n",
      "CPM: 60949.76\n",
      "CPC: 43403.0\n"
     ]
    }
   ],
   "source": [
    "g = powerbid2(40,1.5,1/16)\n",
    "CTR = (g[1]/g[0] * 1000).round(2).astype(str)\n",
    "CPM = (g[2]/ g[0]* 1000).round(2).astype(str)\n",
    "CPC = (g[2]/g[1]).round(2).astype(str)\n",
    "print('CTR:',CTR)\n",
    "print('CPM:',CPM)\n",
    "print('CPC:',CPC)"
   ]
  },
  {
   "cell_type": "code",
   "execution_count": 108,
   "metadata": {
    "collapsed": false
   },
   "outputs": [
    {
     "name": "stdout",
     "output_type": "stream",
     "text": [
      "impression: 3189.0\n",
      "clicks: 5\n",
      "cost: 195340.0\n",
      "CTR: 1.57\n",
      "CPM: 61254.31\n",
      "CPC: 39068.0\n"
     ]
    }
   ],
   "source": [
    "g = powerbid2(40,1.5,1/32)\n",
    "CTR = (g[1]/g[0] * 1000).round(2).astype(str)\n",
    "CPM = (g[2]/ g[0]* 1000).round(2).astype(str)\n",
    "CPC = (g[2]/g[1]).round(2).astype(str)\n",
    "print('CTR:',CTR)\n",
    "print('CPM:',CPM)\n",
    "print('CPC:',CPC)"
   ]
  },
  {
   "cell_type": "code",
   "execution_count": null,
   "metadata": {
    "collapsed": true
   },
   "outputs": [],
   "source": []
  },
  {
   "cell_type": "code",
   "execution_count": 109,
   "metadata": {
    "collapsed": true
   },
   "outputs": [],
   "source": [
    "budget = [1/32,1/16,1/8,1/4,1/2]\n",
    "clt2 = [4/9,(31-9)/31,(31-16)/31,(56-31)/56,(97-56/97)]\n",
    "ctr2 = [(1.57-1.4)/1.4,(1.4-1.25)/1.25,(1.25-1.21)/1.21,(1.21-1.08)/1.08,(1.08-0.94)/0.94]\n",
    "imps = [(6409-3189)/6409,(12785-6409)/12785,(25558-12785)/25558,(51641-25558)/51641,(103214-51641)/103214]\n",
    "cpc = [(43403-39068)/43403,(48828-43403)/48828,(50403-43403)/50403,(55804-50403)/55840,(64433-55840)/64433]"
   ]
  },
  {
   "cell_type": "code",
   "execution_count": 110,
   "metadata": {
    "collapsed": false
   },
   "outputs": [
    {
     "data": {
      "image/png": "[encoded data removed]",
      "text/plain": [
       "<matplotlib.figure.Figure at 0x117359f60>"
      ]
     },
     "metadata": {},
     "output_type": "display_data"
    }
   ],
   "source": [
    "fig, ax1 = plt.subplots()\n",
    "\n",
    "ax2 = ax1.twinx()\n",
    "ax1.plot(budget, clt2, 'r-')\n",
    "ax2.plot(budget, ctr2, 'b-')\n",
    "\n",
    "ax1.set_xlabel('Budget')\n",
    "ax1.set_ylabel('Click improvement', color='r')\n",
    "ax2.set_ylabel('CTR improvement', color='b')\n",
    "\n",
    "plt.show()"
   ]
  },
  {
   "cell_type": "code",
   "execution_count": 111,
   "metadata": {
    "collapsed": false
   },
   "outputs": [
    {
     "data": {
      "image/png": "[encoded data removed]",
      "text/plain": [
       "<matplotlib.figure.Figure at 0x1173861d0>"
      ]
     },
     "metadata": {},
     "output_type": "display_data"
    }
   ],
   "source": [
    "fig, ax1 = plt.subplots()\n",
    "\n",
    "ax2 = ax1.twinx()\n",
    "ax1.plot(budget, imps, 'r-')\n",
    "ax2.plot(budget, cpc, 'b-')\n",
    "\n",
    "ax1.set_xlabel('Budget')\n",
    "ax1.set_ylabel('#imps improvement', color='r')\n",
    "ax2.set_ylabel('CPC improvement', color='b')\n",
    "\n",
    "plt.show()"
   ]
  },
  {
   "cell_type": "code",
   "execution_count": 88,
   "metadata": {
    "collapsed": true
   },
   "outputs": [],
   "source": [
    "import math\n"
   ]
  },
  {
   "cell_type": "code",
   "execution_count": 32,
   "metadata": {
    "collapsed": true
   },
   "outputs": [],
   "source": [
    "def logbid(base,power):\n",
    "    impression = 0.0\n",
    "    clicks = 0\n",
    "    cost = 0.0\n",
    "    budget = 6250000\n",
    "    pCTR.pCTR = pd.to_numeric(pCTR.pCTR)\n",
    "    bid = base*math.log((pCTR.pCTR/avgCTR),power)\n",
    "    bool_check = bid >= payprice\n",
    "    for i in range(0,len(bool_check)):\n",
    "            if bool_check[i]==True:\n",
    "                impression += 1.0\n",
    "                clicks += validation.click[i]\n",
    "                cost += validation.payprice[i]\n",
    "                if cost >= budget:\n",
    "                    break\n",
    "    print('impression:',impression)\n",
    "    print('clicks:',clicks)\n",
    "    print('cost:',cost)\n",
    "    return [impression, clicks, cost]"
   ]
  },
  {
   "cell_type": "code",
   "execution_count": 86,
   "metadata": {
    "collapsed": true
   },
   "outputs": [],
   "source": []
  },
  {
   "cell_type": "code",
   "execution_count": null,
   "metadata": {
    "collapsed": false
   },
   "outputs": [],
   "source": []
  },
  {
   "cell_type": "code",
   "execution_count": 94,
   "metadata": {
    "collapsed": false
   },
   "outputs": [],
   "source": [
    "pCTR.pCTR = pd.to_numeric(pCTR.pCTR)\n",
    "#bid = 20*math.log((pCTR.pCTR/avgCTR),2)"
   ]
  },
  {
   "cell_type": "code",
   "execution_count": null,
   "metadata": {
    "collapsed": true
   },
   "outputs": [],
   "source": []
  },
  {
   "cell_type": "code",
   "execution_count": null,
   "metadata": {
    "collapsed": true
   },
   "outputs": [],
   "source": []
  },
  {
   "cell_type": "code",
   "execution_count": null,
   "metadata": {
    "collapsed": true
   },
   "outputs": [],
   "source": []
  },
  {
   "cell_type": "code",
   "execution_count": 3,
   "metadata": {
    "collapsed": false
   },
   "outputs": [],
   "source": [
    "ana = pd.read_csv('compare.csv')"
   ]
  },
  {
   "cell_type": "code",
   "execution_count": 5,
   "metadata": {
    "collapsed": true
   },
   "outputs": [],
   "source": [
    "name = ['strategy','imps_win','total_spend','clicks','CTR','CPM','CPC']\n",
    "ana.columns=name"
   ]
  },
  {
   "cell_type": "code",
   "execution_count": 6,
   "metadata": {
    "collapsed": false
   },
   "outputs": [],
   "source": [
    "ana.clicks = ana.clicks.astype(float)\n",
    "ana.CTR = ana.CTR.astype(float)\n",
    "ana.imps_win = ana.imps_win.astype(float)\n",
    "ana.CPC = ana.CPC.astype(float)"
   ]
  },
  {
   "cell_type": "code",
   "execution_count": 10,
   "metadata": {
    "collapsed": false
   },
   "outputs": [
    {
     "data": {
      "text/plain": [
       "<matplotlib.text.Text at 0x119460048>"
      ]
     },
     "execution_count": 10,
     "metadata": {},
     "output_type": "execute_result"
    },
    {
     "data": {
      "image/png": "[encoded data removed]",
      "text/plain": [
       "<matplotlib.figure.Figure at 0x11567d320>"
      ]
     },
     "metadata": {},
     "output_type": "display_data"
    }
   ],
   "source": [
    "plt.figure(figsize=(10,6))\n",
    "plt.subplot(2,2,1)\n",
    "ax1 = sns.barplot(x='strategy', y='clicks', data=ana,color = 'b')\n",
    "plt.ylabel('Clicks')\n",
    "plt.subplot(2,2,2)\n",
    "ax2 = sns.barplot(x='strategy', y='CTR', data=ana,color = 'b')\n",
    "plt.ylabel('CTR')\n",
    "plt.subplot(2,2,3)\n",
    "ax1 = sns.barplot(x='strategy', y='imps_win', data=ana,color = 'b')\n",
    "plt.ylabel('Imps_win')\n",
    "plt.subplot(2,2,4)\n",
    "ax2 = sns.barplot(x='strategy', y='CPC', data=ana,color = 'b')\n",
    "plt.ylabel('CPC')"
   ]
  },
  {
   "cell_type": "code",
   "execution_count": 179,
   "metadata": {
    "collapsed": false
   },
   "outputs": [],
   "source": []
  },
  {
   "cell_type": "code",
   "execution_count": 33,
   "metadata": {
    "collapsed": false
   },
   "outputs": [],
   "source": [
    "def avgbid(base,power):\n",
    "    impression = 0.0\n",
    "    clicks = 0\n",
    "    cost = 0.0\n",
    "    budget = 6250000\n",
    "    pCTR.pCTR = pd.to_numeric(pCTR.pCTR)\n",
    "    bid1 = base*np.log2((pCTR.pCTR/avgCTR))\n",
    "    bid2 = np.sqrt((41/5e-06)*pCTR.pCTR+41*41) -41\n",
    "    bid3 = base*(pCTR.pCTR/avgCTR)**power\n",
    "    bid = (0.6*bid1+0.1*bid2+0.4*bid3)\n",
    "#     thrd_check = bid > 400\n",
    "#     for i in range(0,len(thrd_check)):\n",
    "#             if thrd_check[i]==True:\n",
    "#                 bid[i] = 400\n",
    "    thrd_check2 = bid < 50\n",
    "    for i in range(0,len(thrd_check2)):\n",
    "            if thrd_check2[i]==True:\n",
    "                bid[i] = 50            \n",
    "    bool_check = bid >= payprice\n",
    "    for i in range(0,len(bool_check)):\n",
    "            if bool_check[i]==True:\n",
    "                impression += 1.0\n",
    "                clicks += validation.click[i]\n",
    "                cost += validation.payprice[i]\n",
    "                if cost >= budget:\n",
    "                    break\n",
    "    print('impression:',impression)\n",
    "    print('clicks:',clicks)\n",
    "    print('cost:',cost)\n",
    "    return [impression, clicks, cost,bid]"
   ]
  },
  {
   "cell_type": "code",
   "execution_count": 34,
   "metadata": {
    "collapsed": false
   },
   "outputs": [
    {
     "name": "stdout",
     "output_type": "stream",
     "text": [
      "impression: 118959.0\n",
      "clicks: 96\n",
      "cost: 6250049.0\n",
      "CTR: 0.08\n",
      "CPM: 5253.95\n",
      "CPC: 65104.68\n"
     ]
    }
   ],
   "source": [
    "g = avgbid(40,1.5)\n",
    "CTR = (g[1]/g[0] * 100).round(2).astype(str)\n",
    "CPM = (g[2]/ g[0]* 100).round(2).astype(str)\n",
    "CPC = (g[2]/g[1]).round(2).astype(str)\n",
    "print('CTR:',CTR)\n",
    "print('CPM:',CPM)\n",
    "print('CPC:',CPC)\n"
   ]
  },
  {
   "cell_type": "code",
   "execution_count": null,
   "metadata": {
    "collapsed": false
   },
   "outputs": [],
   "source": []
  },
  {
   "cell_type": "code",
   "execution_count": 13,
   "metadata": {
    "collapsed": false
   },
   "outputs": [],
   "source": [
    "test = pd.read_csv('CTR_test.csv')"
   ]
  },
  {
   "cell_type": "code",
   "execution_count": 14,
   "metadata": {
    "collapsed": false
   },
   "outputs": [],
   "source": [
    "test=test['CTR']"
   ]
  },
  {
   "cell_type": "code",
   "execution_count": 15,
   "metadata": {
    "collapsed": false
   },
   "outputs": [],
   "source": [
    "test = pd.Series.to_frame(test)"
   ]
  },
  {
   "cell_type": "code",
   "execution_count": 16,
   "metadata": {
    "collapsed": false
   },
   "outputs": [],
   "source": [
    "name = ['CTR']\n",
    "test.columns=name"
   ]
  },
  {
   "cell_type": "code",
   "execution_count": 17,
   "metadata": {
    "collapsed": false
   },
   "outputs": [
    {
     "data": {
      "text/html": [
       "<div>\n",
       "<table border=\"1\" class=\"dataframe\">\n",
       "  <thead>\n",
       "    <tr style=\"text-align: right;\">\n",
       "      <th></th>\n",
       "      <th>CTR</th>\n",
       "    </tr>\n",
       "  </thead>\n",
       "  <tbody>\n",
       "    <tr>\n",
       "      <th>0</th>\n",
       "      <td>0.001496</td>\n",
       "    </tr>\n",
       "    <tr>\n",
       "      <th>1</th>\n",
       "      <td>0.475646</td>\n",
       "    </tr>\n",
       "    <tr>\n",
       "      <th>2</th>\n",
       "      <td>0.000767</td>\n",
       "    </tr>\n",
       "    <tr>\n",
       "      <th>3</th>\n",
       "      <td>0.000733</td>\n",
       "    </tr>\n",
       "    <tr>\n",
       "      <th>4</th>\n",
       "      <td>0.001335</td>\n",
       "    </tr>\n",
       "  </tbody>\n",
       "</table>\n",
       "</div>"
      ],
      "text/plain": [
       "        CTR\n",
       "0  0.001496\n",
       "1  0.475646\n",
       "2  0.000767\n",
       "3  0.000733\n",
       "4  0.001335"
      ]
     },
     "execution_count": 17,
     "metadata": {},
     "output_type": "execute_result"
    }
   ],
   "source": [
    "test.head()"
   ]
  },
  {
   "cell_type": "code",
   "execution_count": 35,
   "metadata": {
    "collapsed": false
   },
   "outputs": [],
   "source": [
    "def avgbid(base,power):\n",
    "    impression = 0.0\n",
    "    clicks = 0\n",
    "    cost = 0.0\n",
    "    budget = 6250000\n",
    "    test.CTR = pd.to_numeric(test.CTR)\n",
    "    bid1 = base*np.log2((test.CTR/avgCTR))\n",
    "    bid2 = np.sqrt((41/5e-06)*test.CTR+41*41) -41\n",
    "    bid3 = base*(test.CTR/avgCTR)**power\n",
    "    bid = (0.5*bid1+0.2*bid2+0.3*bid3)\n",
    "#  = bid > 300\n",
    "#     for i in range(0,len(thrd_check)):\n",
    "#             if thrd_check[i]==True:\n",
    "#                 bid[i] = 300   thrd_chec\n",
    "    bool_check = bid >= payprice\n",
    "    for i in range(0,len(bool_check)):\n",
    "            if bool_check[i]==True:\n",
    "                impression += 1.0\n",
    "                clicks += validation.click[i]\n",
    "                cost += validation.payprice[i]\n",
    "                if cost >= budget:\n",
    "                    break\n",
    "    print('impression:',impression)\n",
    "    print('clicks:',clicks)\n",
    "    print('cost:',cost)\n",
    "    return [impression, clicks, cost,bid]"
   ]
  },
  {
   "cell_type": "code",
   "execution_count": 36,
   "metadata": {
    "collapsed": false
   },
   "outputs": [
    {
     "name": "stdout",
     "output_type": "stream",
     "text": [
      "impression: 105907.0\n",
      "clicks: 71\n",
      "cost: 6250225.0\n",
      "CTR: 0.07\n",
      "CPM: 5901.62\n",
      "CPC: 88031.34\n"
     ]
    }
   ],
   "source": [
    "g = avgbid(40,1.5)\n",
    "CTR = (g[1]/g[0] * 100).round(2).astype(str)\n",
    "CPM = (g[2]/ g[0]* 100).round(2).astype(str)\n",
    "CPC = (g[2]/g[1]).round(2).astype(str)\n",
    "print('CTR:',CTR)\n",
    "print('CPM:',CPM)\n",
    "print('CPC:',CPC)"
   ]
  },
  {
   "cell_type": "code",
   "execution_count": 37,
   "metadata": {
    "collapsed": false
   },
   "outputs": [],
   "source": [
    "bid = g[3].round(2)"
   ]
  },
  {
   "cell_type": "code",
   "execution_count": 38,
   "metadata": {
    "collapsed": false
   },
   "outputs": [],
   "source": [
    "bid = pd.Series.to_frame(bid)"
   ]
  },
  {
   "cell_type": "code",
   "execution_count": 39,
   "metadata": {
    "collapsed": true
   },
   "outputs": [],
   "source": [
    "bid.columns = ['bid']"
   ]
  },
  {
   "cell_type": "code",
   "execution_count": 40,
   "metadata": {
    "collapsed": false
   },
   "outputs": [],
   "source": [
    "bid.to_csv('bids.csv', sep='\\t')\n"
   ]
  },
  {
   "cell_type": "code",
   "execution_count": 41,
   "metadata": {
    "collapsed": false
   },
   "outputs": [
    {
     "data": {
      "text/html": [
       "<div>\n",
       "<table border=\"1\" class=\"dataframe\">\n",
       "  <thead>\n",
       "    <tr style=\"text-align: right;\">\n",
       "      <th></th>\n",
       "      <th>bid</th>\n",
       "    </tr>\n",
       "  </thead>\n",
       "  <tbody>\n",
       "    <tr>\n",
       "      <th>0</th>\n",
       "      <td>68.74</td>\n",
       "    </tr>\n",
       "    <tr>\n",
       "      <th>1</th>\n",
       "      <td>190716.07</td>\n",
       "    </tr>\n",
       "    <tr>\n",
       "      <th>2</th>\n",
       "      <td>22.49</td>\n",
       "    </tr>\n",
       "    <tr>\n",
       "      <th>3</th>\n",
       "      <td>20.02</td>\n",
       "    </tr>\n",
       "    <tr>\n",
       "      <th>4</th>\n",
       "      <td>59.05</td>\n",
       "    </tr>\n",
       "  </tbody>\n",
       "</table>\n",
       "</div>"
      ],
      "text/plain": [
       "         bid\n",
       "0      68.74\n",
       "1  190716.07\n",
       "2      22.49\n",
       "3      20.02\n",
       "4      59.05"
      ]
     },
     "execution_count": 41,
     "metadata": {},
     "output_type": "execute_result"
    }
   ],
   "source": [
    "bid.head()"
   ]
  }
 ],
 "metadata": {
  "anaconda-cloud": {},
  "kernelspec": {
   "display_name": "Python [default]",
   "language": "python",
   "name": "python3"
  },
  "language_info": {
   "codemirror_mode": {
    "name": "ipython",
    "version": 3
   },
   "file_extension": ".py",
   "mimetype": "text/x-python",
   "name": "python",
   "nbconvert_exporter": "python",
   "pygments_lexer": "ipython3",
   "version": "3.5.2"
  }
 },
 "nbformat": 4,
 "nbformat_minor": 1
}
