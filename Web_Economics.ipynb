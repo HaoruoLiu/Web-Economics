{
 "cells": [
  {
   "cell_type": "code",
   "execution_count": 2,
   "metadata": {
    "collapsed": true
   },
   "outputs": [],
   "source": [
    "import numpy as np\n",
    "import pandas as pd\n",
    "import matplotlib.pyplot as plt\n",
    "from sklearn.ensemble import RandomForestRegressor\n",
    "from sklearn.linear_model import LinearRegression\n",
    "import xgboost as xgb\n",
    "import seaborn as sns\n",
    "import re\n",
    "from sklearn.linear_model import LogisticRegression\n",
    "from sklearn.metrics import mean_squared_error as mse\n",
    "from sklearn.metrics import roc_auc_score as auc\n",
    "from sklearn.ensemble import RandomForestRegressor\n",
    "import copy\n",
    "import warnings\n",
    "warnings.filterwarnings('ignore')\n",
    "import time\n",
    "from sklearn.model_selection import GridSearchCV\n",
    "from sklearn.preprocessing import scale\n",
    "from sklearn.ensemble import RandomForestClassifier\n",
    "from sklearn import svm\n",
    "from sklearn.ensemble import GradientBoostingClassifier\n",
    "from sklearn.neural_network import MLPClassifier\n",
    "from sklearn.linear_model import LassoCV\n",
    "from sklearn.discriminant_analysis import LinearDiscriminantAnalysis\n",
    "from sklearn.ensemble import ExtraTreesClassifier"
   ]
  },
  {
   "cell_type": "code",
   "execution_count": 5,
   "metadata": {
    "collapsed": true
   },
   "outputs": [],
   "source": [
    "train_data = pd.read_csv('/Users/osx/Desktop/web-datamining/web_economics/dataset/train.csv')\n",
    "validation = pd.read_csv('/Users/osx/Desktop/web-datamining/web_economics/dataset/validation.csv')\n",
    "test_data  = pd.read_csv('/Users/osx/Desktop/web-datamining/web_economics/dataset/test.csv')"
   ]
  },
  {
   "cell_type": "code",
   "execution_count": 5,
   "metadata": {},
   "outputs": [
    {
     "data": {
      "text/plain": [
       "1458    540293\n",
       "3386    498554\n",
       "3427    454031\n",
       "3476    346778\n",
       "3358    304782\n",
       "2821    231416\n",
       "2259    146778\n",
       "2261    120619\n",
       "2997     54487\n",
       "Name: advertiser, dtype: int64"
      ]
     },
     "execution_count": 5,
     "metadata": {},
     "output_type": "execute_result"
    }
   ],
   "source": [
    "train_data['advertiser'].value_counts()"
   ]
  },
  {
   "cell_type": "markdown",
   "metadata": {},
   "source": [
    "# Data Exploration"
   ]
  },
  {
   "cell_type": "code",
   "execution_count": 9,
   "metadata": {},
   "outputs": [
    {
     "name": "stdout",
     "output_type": "stream",
     "text": [
      "0\n"
     ]
    },
    {
     "data": {
      "text/plain": [
       "Series([], dtype: float64)"
      ]
     },
     "execution_count": 9,
     "metadata": {},
     "output_type": "execute_result"
    }
   ],
   "source": [
    "missing_data = train_data.columns[train_data.isnull().any()]\n",
    "print(missing_data.size)\n",
    "missing_data = train_data[missing_data].isnull().sum()\n",
    "missing_data ### NO nan in train data"
   ]
  },
  {
   "cell_type": "markdown",
   "metadata": {},
   "source": [
    "### Training Data Exploration"
   ]
  },
  {
   "cell_type": "code",
   "execution_count": 6,
   "metadata": {
    "collapsed": true
   },
   "outputs": [],
   "source": [
    "price = train_data[['payprice','bidprice','slotprice']]\n",
    "redicules_row = train_data.ix[price[price['payprice']>price['bidprice']].index,:]['click']\n",
    "redicules_row = redicules_row[redicules_row==0]\n",
    "train_data = train_data.drop(redicules_row.index)"
   ]
  },
  {
   "cell_type": "code",
   "execution_count": 7,
   "metadata": {
    "collapsed": true
   },
   "outputs": [],
   "source": [
    "train_data[\"slotsize\"] = train_data.slotwidth.astype(str).str.cat(train_data.slotheight.astype(str), sep='*')"
   ]
  },
  {
   "cell_type": "code",
   "execution_count": 8,
   "metadata": {
    "collapsed": true
   },
   "outputs": [],
   "source": [
    "slot_v_numberic = train_data['slotvisibility']\n",
    "values_to_takeout = ['Na','FirstView','OtherView','SecondView','ThirdView','FourthView','FifthView']\n",
    "for i in values_to_takeout:\n",
    "    slot_v_numberic = slot_v_numberic.drop(slot_v_numberic[slot_v_numberic == i].index,axis=0)"
   ]
  },
  {
   "cell_type": "code",
   "execution_count": 9,
   "metadata": {
    "collapsed": true
   },
   "outputs": [],
   "source": [
    "def fill_visibility_category(list):\n",
    "    train_data['newslotvisibility']=train_data['slotvisibility']\n",
    "    for i in list:\n",
    "        if i !='FifthView':\n",
    "            area_count = train_data['slotsize'][train_data['slotvisibility']==i].value_counts()\n",
    "            fill_value = slot_v_numberic[train_data['slotsize']==area_count.index[0]].value_counts()\n",
    "#             print(fill_value.index[0])\n",
    "            train_data['newslotvisibility'][train_data['slotvisibility']==i]=fill_value.index[0]\n",
    "        else:\n",
    "            area_count = train_data['slotsize'][train_data['slotvisibility']==i].value_counts()\n",
    "            fill_value = slot_v_numberic[train_data['slotsize']==area_count.index[1]].value_counts()\n",
    "#             print(fill_value.index[0])\n",
    "            train_data['newslotvisibility'][train_data['slotvisibility']==i]=fill_value.index[0]\n",
    "#     return(train_data['newslotvisibility'])"
   ]
  },
  {
   "cell_type": "code",
   "execution_count": 10,
   "metadata": {
    "collapsed": true
   },
   "outputs": [],
   "source": [
    "values_to_takeout = ['Na','OtherView','ThirdView','FourthView','FifthView']\n",
    "fill_visibility_category(values_to_takeout)\n",
    "train_data['newslotvisibility'][train_data['slotvisibility']=='FirstView']='1'\n",
    "train_data['newslotvisibility'][train_data['slotvisibility']=='SecondView']='2'\n",
    "train_data = train_data.drop('slotvisibility',axis=1)"
   ]
  },
  {
   "cell_type": "code",
   "execution_count": 11,
   "metadata": {
    "collapsed": true
   },
   "outputs": [],
   "source": [
    "string_to_int_new_slot_v = {'0':0,'2':2,'1':1,'255':255}\n",
    "string_to_int_slotformat = {'0':0,'1':1,'5':5}\n",
    "train_data['newslotvisibility'] = train_data['newslotvisibility'].map(string_to_int_new_slot_v)\n",
    "train_data['slotformat'] = train_data['slotformat'].map(string_to_int_slotformat)\n",
    "train_data['slotformat'][train_data['slotformat'].isnull()==True]=0"
   ]
  },
  {
   "cell_type": "code",
   "execution_count": 12,
   "metadata": {
    "collapsed": true
   },
   "outputs": [],
   "source": [
    "int_to_str_new_slot_v = {0:'0',2:'2',1:'1',255:'255'}\n",
    "int_to_str_slotformat = {0:'0',1:'1',5:'5'}\n",
    "train_data['newslotvisibility'] = train_data['newslotvisibility'].map(int_to_str_new_slot_v)\n",
    "train_data['slotformat'] = train_data['slotformat'].map(int_to_str_slotformat)"
   ]
  },
  {
   "cell_type": "code",
   "execution_count": 16,
   "metadata": {
    "collapsed": true
   },
   "outputs": [],
   "source": [
    "train_data['OS'] = train_data['useragent'].map(lambda x:x.split('_')[0])\n",
    "train_data['Browser'] = train_data['useragent'].map(lambda x:x.split('_')[1])"
   ]
  },
  {
   "cell_type": "code",
   "execution_count": 18,
   "metadata": {
    "collapsed": true
   },
   "outputs": [],
   "source": [
    "train_data['Computer'] = '0'\n",
    "train_data['Phone'] = '0'\n",
    "train_data['Phone'][train_data['OS']=='ios'] = '1'\n",
    "train_data['Phone'][train_data['OS']=='android'] = '1'\n",
    "train_data['Computer'][train_data['OS']=='windows'] = '1'\n",
    "train_data['Computer'][train_data['OS']=='mac'] = '1'\n",
    "train_data['Computer'][train_data['OS']=='other'] = '1'\n",
    "train_data['Computer'][train_data['OS']=='linux'] = '1'"
   ]
  },
  {
   "cell_type": "code",
   "execution_count": 19,
   "metadata": {
    "collapsed": true
   },
   "outputs": [],
   "source": [
    "y_payprice_train = train_data['payprice']\n",
    "y_bidprice_train = train_data['bidprice']\n",
    "y_click_train = train_data['click']\n",
    "userinf_train_ = train_data['usertag']\n",
    "userinf_train = userinf_train_.str.get_dummies(sep=',')"
   ]
  },
  {
   "cell_type": "code",
   "execution_count": 20,
   "metadata": {
    "collapsed": true
   },
   "outputs": [],
   "source": [
    "features_to_drop = ['click','bidid','logtype','slotheight','slotwidth','bidprice',\\\n",
    "                    'payprice','useragent','usertag','urlid','userid','slotid']\n",
    "train_data = train_data.drop(features_to_drop,axis=1)"
   ]
  },
  {
   "cell_type": "code",
   "execution_count": 21,
   "metadata": {
    "collapsed": true
   },
   "outputs": [],
   "source": [
    "# domain_cal = train_data['domain'].value_counts()\n",
    "# domain_cal = train_data['domain'].value_counts()\n",
    "# domain_index = train_data['domain'].value_counts().index\n",
    "# dom = {}\n",
    "# for i in domain_index:\n",
    "#     if domain_cal[i]<10000:\n",
    "#         train_data['domain'][train_data['domain']==i]='others'\n"
   ]
  },
  {
   "cell_type": "code",
   "execution_count": 22,
   "metadata": {
    "collapsed": true
   },
   "outputs": [],
   "source": [
    "train_data = train_data.drop('url',axis=1)\n",
    "train_data = train_data.drop('IP',axis=1)\n",
    "train_data = train_data.drop('domain',axis=1)\n",
    "\n",
    "###\n",
    "train_data['adexchange'] = train_data['adexchange'].fillna('5')\n",
    "train_data['slotprice'] = scale(train_data['slotprice'])"
   ]
  },
  {
   "cell_type": "markdown",
   "metadata": {},
   "source": [
    "### Validation Data Exploration"
   ]
  },
  {
   "cell_type": "code",
   "execution_count": 28,
   "metadata": {
    "collapsed": true
   },
   "outputs": [],
   "source": [
    "validation[\"slotsize\"] = validation.slotwidth.astype(str).str.cat(validation.slotheight.astype(str), sep='*')\n",
    "slot_v_numberic = validation['slotvisibility']\n",
    "values_to_takeout = ['Na','FirstView','OtherView','SecondView','ThirdView','FourthView','FifthView']\n",
    "for i in values_to_takeout:\n",
    "    slot_v_numberic = slot_v_numberic.drop(slot_v_numberic[slot_v_numberic == i].index,axis=0)"
   ]
  },
  {
   "cell_type": "code",
   "execution_count": 29,
   "metadata": {
    "collapsed": true
   },
   "outputs": [],
   "source": [
    "def fill_visibility_category_validation(list):\n",
    "    validation['newslotvisibility']=validation['slotvisibility']\n",
    "    for i in list:\n",
    "        if i !='FifthView':\n",
    "            area_count = validation['slotsize'][validation['slotvisibility']==i].value_counts()\n",
    "            fill_value = slot_v_numberic[validation['slotsize']==area_count.index[0]].value_counts()\n",
    "#             print(fill_value.index[0])\n",
    "            validation['newslotvisibility'][validation['slotvisibility']==i]=fill_value.index[0]\n",
    "        else:\n",
    "            area_count = validation['slotsize'][validation['slotvisibility']==i].value_counts()\n",
    "            fill_value = slot_v_numberic[validation['slotsize']==area_count.index[1]].value_counts()\n",
    "#             print(fill_value.index[0])\n",
    "            validation['newslotvisibility'][validation['slotvisibility']==i]=fill_value.index[0]\n",
    "#     return(train_data['newslotvisibility'])"
   ]
  },
  {
   "cell_type": "code",
   "execution_count": 30,
   "metadata": {
    "collapsed": true
   },
   "outputs": [],
   "source": [
    "values_to_takeout = ['Na','OtherView','ThirdView','FourthView','FifthView']\n",
    "fill_visibility_category_validation(values_to_takeout)\n",
    "validation['newslotvisibility'][validation['slotvisibility']=='FirstView']='1'\n",
    "validation['newslotvisibility'][validation['slotvisibility']=='SecondView']='2'\n",
    "validation = validation.drop('slotvisibility',axis=1)"
   ]
  },
  {
   "cell_type": "code",
   "execution_count": 31,
   "metadata": {
    "collapsed": true
   },
   "outputs": [],
   "source": [
    "string_to_int_newslotv_v = {'0':0,'2':2,'1':1,'255':255}\n",
    "string_to_int_slotformat_v = {'0':0,'1':1,'5':5}\n",
    "validation['newslotvisibility'] = validation['newslotvisibility'].map(string_to_int_newslotv_v)\n",
    "validation['slotformat'] = validation['slotformat'].map(string_to_int_slotformat_v)\n",
    "validation['slotformat'][validation['slotformat'].isnull()==True]=0"
   ]
  },
  {
   "cell_type": "code",
   "execution_count": 32,
   "metadata": {
    "collapsed": true
   },
   "outputs": [],
   "source": [
    "int_to_str_newslotv_v = {0:'0',2:'2',1:'1',255:'255'}\n",
    "int_to_str_slotformat_v = {0:'0',1:'1',5:'5'}\n",
    "validation['newslotvisibility'] = validation['newslotvisibility'].map(int_to_str_newslotv_v)\n",
    "validation['slotformat'] = validation['slotformat'].map(int_to_str_slotformat_v)"
   ]
  },
  {
   "cell_type": "code",
   "execution_count": 34,
   "metadata": {
    "collapsed": true
   },
   "outputs": [],
   "source": [
    "validation['OS'] = validation['useragent'].map(lambda x:x.split('_')[0])\n",
    "validation['Browser'] = validation['useragent'].map(lambda x:x.split('_')[1])"
   ]
  },
  {
   "cell_type": "code",
   "execution_count": 35,
   "metadata": {
    "collapsed": true
   },
   "outputs": [],
   "source": [
    "validation['Computer'] = '0'\n",
    "validation['Phone'] = '0'\n",
    "validation['Phone'][validation['OS']=='ios'] = '1'\n",
    "validation['Phone'][validation['OS']=='android'] = '1'\n",
    "validation['Computer'][validation['OS']=='windows'] = '1'\n",
    "validation['Computer'][validation['OS']=='mac'] = '1'\n",
    "validation['Computer'][validation['OS']=='other'] = '1'\n",
    "validation['Computer'][validation['OS']=='linux'] = '1'"
   ]
  },
  {
   "cell_type": "code",
   "execution_count": 36,
   "metadata": {
    "collapsed": true
   },
   "outputs": [],
   "source": [
    "y_click_validation = validation['click']\n",
    "y_payprice_validation = validation['payprice']\n",
    "y_bidprice_validation = validation['bidprice']\n",
    "userinf_validation_ = validation['usertag']\n",
    "userinf_validation = userinf_validation_.str.get_dummies(sep=',')\n",
    "validation_features_to_drop = ['click','bidid','logtype','userid','useragent','urlid','slotid',\\\n",
    "                               'slotwidth','slotheight','bidprice','payprice','usertag']\n",
    "validation = validation.drop(validation_features_to_drop,axis=1)"
   ]
  },
  {
   "cell_type": "code",
   "execution_count": 37,
   "metadata": {
    "collapsed": true
   },
   "outputs": [],
   "source": [
    "# domain_cal = validation['domain'].value_counts()\n",
    "# domain_cal = validation['domain'].value_counts()\n",
    "# domain_index = validation['domain'].value_counts().index\n",
    "# dom = {}\n",
    "# for i in domain_index:\n",
    "#     if domain_cal[i]<1000:\n",
    "#         validation['domain'][validation['domain']==i]='others'"
   ]
  },
  {
   "cell_type": "code",
   "execution_count": 38,
   "metadata": {
    "collapsed": true
   },
   "outputs": [],
   "source": [
    "validation = validation.drop('url',axis=1)\n",
    "validation = validation.drop('IP',axis=1)\n",
    "validation = validation.drop('domain',axis=1)\n",
    "validation['adexchange'] = validation['adexchange'].fillna('5')\n",
    "validation['slotprice'] = scale(validation['slotprice'])"
   ]
  },
  {
   "cell_type": "code",
   "execution_count": 39,
   "metadata": {
    "collapsed": true
   },
   "outputs": [],
   "source": [
    "# validation.to_csv('validation_exploration.csv')"
   ]
  },
  {
   "cell_type": "markdown",
   "metadata": {},
   "source": [
    "### Test Data Exploration"
   ]
  },
  {
   "cell_type": "code",
   "execution_count": 41,
   "metadata": {
    "collapsed": true
   },
   "outputs": [],
   "source": [
    "test_data[\"slotsize\"] = test_data.slotwidth.astype(str).str.cat(test_data.slotheight.astype(str), sep='*')\n",
    "slot_v_numberic = test_data['slotvisibility']\n",
    "values_to_takeout = ['Na','FirstView','OtherView','SecondView','ThirdView','FourthView','FifthView']\n",
    "for i in values_to_takeout:\n",
    "    slot_v_numberic = slot_v_numberic.drop(slot_v_numberic[slot_v_numberic == i].index,axis=0)"
   ]
  },
  {
   "cell_type": "code",
   "execution_count": 42,
   "metadata": {
    "collapsed": true
   },
   "outputs": [],
   "source": [
    "def fill_visibility_category_test(list):\n",
    "    test_data['newslotvisibility']=test_data['slotvisibility']\n",
    "    for i in list:\n",
    "        if i !='FifthView':\n",
    "            area_count = test_data['slotsize'][test_data['slotvisibility']==i].value_counts()\n",
    "            fill_value = slot_v_numberic[test_data['slotsize']==area_count.index[0]].value_counts()\n",
    "#             print(fill_value.index[0])\n",
    "            test_data['newslotvisibility'][test_data['slotvisibility']==i]=fill_value.index[0]\n",
    "        else:\n",
    "            area_count = test_data['slotsize'][test_data['slotvisibility']==i].value_counts()\n",
    "            fill_value = slot_v_numberic[test_data['slotsize']==area_count.index[1]].value_counts()\n",
    "#             print(fill_value.index[0])\n",
    "            test_data['newslotvisibility'][test_data['slotvisibility']==i]=fill_value.index[0]\n",
    "#     return(train_data['newslotvisibility'])"
   ]
  },
  {
   "cell_type": "code",
   "execution_count": 43,
   "metadata": {
    "collapsed": true
   },
   "outputs": [],
   "source": [
    "values_to_takeout = ['Na','OtherView','ThirdView','FourthView','FifthView']\n",
    "fill_visibility_category_test(values_to_takeout)\n",
    "test_data['newslotvisibility'][test_data['slotvisibility']=='FirstView']='1'\n",
    "test_data['newslotvisibility'][test_data['slotvisibility']=='SecondView']='2'\n",
    "test_data = test_data.drop('slotvisibility',axis=1)"
   ]
  },
  {
   "cell_type": "code",
   "execution_count": 44,
   "metadata": {
    "collapsed": true
   },
   "outputs": [],
   "source": [
    "string_to_int_new_slot_t = {'0':0,'2':2,'1':1,'255':255}\n",
    "string_to_int_slotformat_t = {'0':0,'1':1,'5':5}\n",
    "test_data['newslotvisibility'] = test_data['newslotvisibility'].map(string_to_int_new_slot_t)#.astype(int)\n",
    "test_data['slotformat'] = test_data['slotformat'].map(string_to_int_slotformat_t)\n",
    "test_data['slotformat'][test_data['slotformat'].isnull()==True]=0"
   ]
  },
  {
   "cell_type": "code",
   "execution_count": 45,
   "metadata": {
    "collapsed": true
   },
   "outputs": [],
   "source": [
    "int_to_str_newslotv_t = {0:'0',2:'2',1:'1',255:'255'}\n",
    "int_to_str_slotformat_t = {0:'0',1:'1',5:'5'}\n",
    "test_data['newslotvisibility'] = test_data['newslotvisibility'].map(int_to_str_newslotv_t)\n",
    "test_data['slotformat'] = test_data['slotformat'].map(int_to_str_slotformat_t)"
   ]
  },
  {
   "cell_type": "code",
   "execution_count": 46,
   "metadata": {
    "collapsed": true
   },
   "outputs": [],
   "source": [
    "# plt.scatter(x=test_data['region'].values,y=test_data['city'].values)\n",
    "# plt.show()"
   ]
  },
  {
   "cell_type": "code",
   "execution_count": 47,
   "metadata": {
    "collapsed": true
   },
   "outputs": [],
   "source": [
    "test_data['OS'] = test_data['useragent'].map(lambda x:x.split('_')[0])\n",
    "test_data['Browser'] = test_data['useragent'].map(lambda x:x.split('_')[1])"
   ]
  },
  {
   "cell_type": "code",
   "execution_count": 48,
   "metadata": {
    "collapsed": true
   },
   "outputs": [],
   "source": [
    "test_data['Computer'] = '0'\n",
    "test_data['Phone'] = '0'\n",
    "test_data['Phone'][test_data['OS']=='ios'] = '1'\n",
    "test_data['Phone'][test_data['OS']=='android'] = '1'\n",
    "test_data['Computer'][test_data['OS']=='windows'] = '1'\n",
    "test_data['Computer'][test_data['OS']=='mac'] = '1'\n",
    "test_data['Computer'][test_data['OS']=='other'] = '1'\n",
    "test_data['Computer'][test_data['OS']=='linux'] = '1'"
   ]
  },
  {
   "cell_type": "code",
   "execution_count": 49,
   "metadata": {
    "collapsed": true
   },
   "outputs": [],
   "source": [
    "userinf_test_ = test_data['usertag']\n",
    "userinf_test = userinf_test_.str.get_dummies(sep=',')\n",
    "\n",
    "test_features_to_drop = ['bidid','logtype','userid','useragent','urlid','slotid',\\\n",
    "                               'slotwidth','slotheight','usertag']\n",
    "test_data = test_data.drop(test_features_to_drop,axis=1)"
   ]
  },
  {
   "cell_type": "code",
   "execution_count": 50,
   "metadata": {
    "collapsed": true
   },
   "outputs": [],
   "source": [
    "# domain_cal = test_data['domain'].value_counts()\n",
    "# domain_cal = test_data['domain'].value_counts()\n",
    "# domain_index = test_data['domain'].value_counts().index\n",
    "# dom = {}\n",
    "# for i in domain_index:\n",
    "#     if domain_cal[i]<1000:\n",
    "#         test_data['domain'][test_data['domain']==i]='others'\n"
   ]
  },
  {
   "cell_type": "code",
   "execution_count": 51,
   "metadata": {
    "collapsed": true
   },
   "outputs": [],
   "source": [
    "test_data = test_data.drop('url',axis=1)\n",
    "test_data = test_data.drop('IP',axis=1)\n",
    "test_data = test_data.drop('domain',axis=1)\n",
    "test_data['adexchange'] = test_data['adexchange'].fillna('5')\n",
    "test_data['slotprice'] = scale(test_data['slotprice'])"
   ]
  },
  {
   "cell_type": "code",
   "execution_count": 52,
   "metadata": {
    "collapsed": true
   },
   "outputs": [],
   "source": [
    "# test_data.to_csv('test_exploration')"
   ]
  },
  {
   "cell_type": "markdown",
   "metadata": {},
   "source": [
    "### Dummy Data"
   ]
  },
  {
   "cell_type": "code",
   "execution_count": 54,
   "metadata": {
    "collapsed": true
   },
   "outputs": [],
   "source": [
    "all_data = pd.concat((train_data,validation,test_data),ignore_index=True)\n",
    "dummy_all_data = pd.get_dummies(all_data)\n",
    "dummy_all_userinf = pd.concat((userinf_train,userinf_validation,userinf_test),ignore_index=True)\n",
    "dummy_total_data = pd.concat((dummy_all_data,dummy_all_userinf),axis=1)\n",
    "y_clicl_vt = pd.concat((y_click_train,y_click_validation),ignore_index=True)"
   ]
  },
  {
   "cell_type": "code",
   "execution_count": 55,
   "metadata": {
    "collapsed": true
   },
   "outputs": [],
   "source": [
    "train_data_dummy = dummy_all_data[:2664207] \n",
    "validation_dummy = dummy_all_data[2664207:2963956]\n",
    "test_data_dummy = dummy_all_data[2963956:]\n",
    "click_t = y_clicl_vt[:2664207]\n",
    "click_v = y_clicl_vt[2664207:]"
   ]
  },
  {
   "cell_type": "markdown",
   "metadata": {},
   "source": [
    "# Train Model"
   ]
  },
  {
   "cell_type": "markdown",
   "metadata": {},
   "source": [
    "## Classifier"
   ]
  },
  {
   "cell_type": "markdown",
   "metadata": {},
   "source": [
    "### Logistic Regression-All advertiser"
   ]
  },
  {
   "cell_type": "code",
   "execution_count": 68,
   "metadata": {
    "collapsed": true,
    "scrolled": true
   },
   "outputs": [],
   "source": [
    "# x1 = train_data_dummy\n",
    "# y1 = y_click_train\n",
    "# #--------------------- choose the best parameters for LogisticRegression ————————————————————————————\n",
    "# c_range = np.linspace(start=0.001,stop=5,num=10) \n",
    "# tuned_parameters = [{'C': c_range,\"solver\":[\"sag\",'liblinear'],\"penalty\":[\"l2\"],\n",
    "#                      \"class_weight\":[\"balanced\"]}]\n",
    "# # scores=[\"accuracy\"]\n",
    "# lr_model=GridSearchCV(LogisticRegression(max_iter=500),param_grid=tuned_parameters,scoring=\"accuracy\",cv=5,n_jobs=-1)\n",
    "# lr_model.fit(x1, y1)\n",
    "\n",
    "# print(\"parameters selected: \",lr_model.best_params_)\n",
    "# print(\" \")\n",
    "# print(\"Train set:\")\n",
    "# print(score+\":\",lr_model.best_score_)\n",
    "# print(\" \")\n",
    "\n",
    "# #--------------------- find the model -------\n",
    "# lr = LogisticRegression(C=lr_model.best_params_[\"C\"],class_weight=lr_model.best_params_[\"class_weight\"]\\\n",
    "#                          ,penalty=lr_model.best_params_[\"penalty\"],solver=lr_model.best_params_[\"solver\"],n_jobs=-1)\n",
    "# LR_model = lr.fit(x1,y1) \n",
    "\n",
    "# y_predict_LR = LR_model.predict.proba(validation_dummy)"
   ]
  },
  {
   "cell_type": "code",
   "execution_count": 70,
   "metadata": {
    "collapsed": true
   },
   "outputs": [],
   "source": [
    "x = train_data_dummy\n",
    "y = y_click_train\n",
    "lr = LogisticRegression(class_weight = 'balanced',penalty='l2',solver='liblinear',n_jobs=-1)\n",
    "LR_model = lr.fit(x,y) \n",
    "\n",
    "y_predict_LR = LR_model.predict_proba(validation_dummy)"
   ]
  },
  {
   "cell_type": "code",
   "execution_count": 71,
   "metadata": {
    "collapsed": true
   },
   "outputs": [],
   "source": [
    "y_lr = y_predict_LR[:,1]"
   ]
  },
  {
   "cell_type": "markdown",
   "metadata": {},
   "source": [
    "### Logistic Regression for different Advertiser"
   ]
  },
  {
   "cell_type": "code",
   "execution_count": 72,
   "metadata": {
    "collapsed": true
   },
   "outputs": [],
   "source": [
    "advertiser_set = [1458,3386,3427,3476,3358,2821,2259,2261,2997]\n",
    "# validation pred_collect = pd.DataFrame()\n",
    "click_LR_pred = copy.deepcopy(validation_dummy['advertiser'])\n",
    "# validation_dummy = validation_dummy.drop('advertiser',axis=1)\n",
    "z2 = validation_dummy.drop('advertiser',axis=1)"
   ]
  },
  {
   "cell_type": "code",
   "execution_count": 73,
   "metadata": {
    "collapsed": true
   },
   "outputs": [],
   "source": [
    "x2 = train_data_dummy.drop('advertiser',axis=1)\n",
    "y2 = click_t\n",
    "\n",
    "for adver in advertiser_set:\n",
    "    lr = LogisticRegression(class_weight = 'balanced',penalty='l2',solver='liblinear',n_jobs=-1)\n",
    "    LR_model = lr.fit(x2[train_data_dummy['advertiser']==adver],y2[train_data_dummy['advertiser']==adver]) \n",
    "    precollect_LR = LR_model.predict_proba(z2[validation_dummy['advertiser']==adver])\n",
    "    click_LR_pred[validation_dummy['advertiser']==adver]=precollect_LR[:,1]"
   ]
  },
  {
   "cell_type": "code",
   "execution_count": 74,
   "metadata": {
    "collapsed": true
   },
   "outputs": [],
   "source": [
    "y_ad_lr = np.array(click_LR_pred)"
   ]
  },
  {
   "cell_type": "markdown",
   "metadata": {
    "collapsed": true
   },
   "source": [
    "### XGBoost Classifier ---All Advertiser"
   ]
  },
  {
   "cell_type": "code",
   "execution_count": 75,
   "metadata": {
    "collapsed": true,
    "scrolled": true
   },
   "outputs": [],
   "source": [
    "# param_to_tuned = {'max_depth':[3,6,8],\n",
    "#                   'seed':[1337],\n",
    "#                   'silent':[1],\n",
    "#                   'n_estimators':[500,700,300],\n",
    "#                   'learning_rate':np.linspace(0.01,0.6,6),\n",
    "#                   'objective':['binary:logistic'],\n",
    "#                   'subsample':[0.1,0.8],\n",
    "#                   'colsample_bytree':[0.7],\n",
    "#                   'gamma':[0,1,0.5],\n",
    "#                   'min_child_weight':[0,0.5,1.5]}\n",
    "# xgb_model = xgb.XGBClassifier()    \n",
    "# XGB_Model = GridSearchCV(xgb_model, param_grid = param_to_tuned, scoring='roc_auc',\\\n",
    "#                          cv=StratifiedKFold(y_click_train,n_folds=10,shuffle=True),\\\n",
    "#                           refit=True,return_train_score=True)\n",
    "# t = time.time()\n",
    "# XGB_Model.fit(train_data_dummy, y_click_train)\n",
    "# print('model training time:',round((time.time()-t)/60,3),'minutes\\n')\n",
    "# print('optimal parameter:')\n",
    "# print('max_depth:',XGB_Model.best_params_['max_depth'])\n",
    "# print('n_estimators:',XGB_Model.best_params_['n_estimators'])\n",
    "# print('learning_rate:',XGB_Model.best_params_['learning_rate'])\n",
    "# print('subsample:',XGB_Model.best_params_['subsample'])\n",
    "# print('gamma:',XGB_Model.best_params_['gamma'])\n",
    "# print('min_child_weight:',XGB_Model.best_params_['min_child_weight'])"
   ]
  },
  {
   "cell_type": "code",
   "execution_count": 77,
   "metadata": {
    "collapsed": true
   },
   "outputs": [],
   "source": [
    "xgb_model = xgb.XGBClassifier(learning_rate=0.01,max_depth=6,\\\n",
    "                             n_estimators=700,).fit(train_data_dummy,click_t)    \n",
    "y_predict_xgb = xgb_model.predict_proba(validation_dummy)"
   ]
  },
  {
   "cell_type": "code",
   "execution_count": null,
   "metadata": {
    "collapsed": true
   },
   "outputs": [],
   "source": [
    "y_xgb = y_predict_xgb[:,1]"
   ]
  },
  {
   "cell_type": "markdown",
   "metadata": {
    "collapsed": true
   },
   "source": [
    "### XGBoost for different Advertiser"
   ]
  },
  {
   "cell_type": "code",
   "execution_count": 297,
   "metadata": {
    "collapsed": true
   },
   "outputs": [],
   "source": [
    "advertiser_set = [1458,3386,3427,3476,3358,2821,2259,2261,2997]\n",
    "click_XGB_pred = copy.deepcopy(validation_dummy['advertiser'])\n",
    "z4 = validation_dummy.drop('advertiser',axis=1)"
   ]
  },
  {
   "cell_type": "code",
   "execution_count": 298,
   "metadata": {
    "collapsed": true
   },
   "outputs": [],
   "source": [
    "x4 = train_data_dummy.drop('advertiser',axis=1)\n",
    "y4 = click_t\n",
    "\n",
    "for adver in advertiser_set:\n",
    "    XGB_click = xgb.XGBClassifier(colsample_bytree=0.2,\n",
    "                                       gamma=0.0, \n",
    "                                       learning_rate=0.01,\n",
    "                                       max_depth=6,\n",
    "                                       min_child_weight=1.5,\n",
    "                                       n_estimators=700,                                                                  \n",
    "                                       reg_alpha=0.9,\n",
    "                                       reg_lambda=0.7,\n",
    "                                       subsample=0.2,\n",
    "                                       seed=42,\n",
    "                                       silent=1).fit(x4[train_data_dummy['advertiser']==adver],\\\n",
    "                                                     y4[train_data_dummy['advertiser']==adver])\n",
    "    precollect_XGB = XGB_click.predict_proba(z4[validation_dummy['advertiser']==adver])\n",
    "    click_XGB_pred[validation_dummy['advertiser']==adver]=precollect_XGB[:,1]\n",
    "        \n",
    "    "
   ]
  },
  {
   "cell_type": "code",
   "execution_count": 300,
   "metadata": {
    "collapsed": true
   },
   "outputs": [],
   "source": [
    "y_ad_xgb = np.array(click_XGB_pred)"
   ]
  },
  {
   "cell_type": "markdown",
   "metadata": {},
   "source": [
    "### Random Forest for All advertiser"
   ]
  },
  {
   "cell_type": "code",
   "execution_count": null,
   "metadata": {
    "collapsed": true
   },
   "outputs": [],
   "source": [
    "# param_to_tuned = {'max_depth':[3,6,8],\n",
    "#                   'n_estimators':[500,700,300],\n",
    "#                   'min_samples_split':[3,5,10],\n",
    "#                   'min_samples_leaf':[1,3],\n",
    "#                   'min_weight_fraction_leaf':[0],\n",
    "#                   'max_leaf_nodes':[None],\n",
    "#                   'oob_score':[False],\n",
    "#                   'bootstrap':[True],\n",
    "#                   'class_weight':['balanced']}\n",
    "# rfc_model = RandomForestClassifier()    \n",
    "# rfc_Model = GridSearchCV(rfc_model, param_grid = param_to_tuned,cv10,refit=True,return_train_score=True)\n",
    "# t = time.time()\n",
    "# rfc_Model.fit(train_data_dummy, y_click_train)\n",
    "# print('model training time:',round((time.time()-t)/60,3),'minutes\\n')\n",
    "# print('optimal parameter:')\n",
    "# print('max_depth:',rfc_Model.best_params_['max_depth'])\n",
    "# print('n_estimators:',rfc_Model.best_params_['n_estimators'])\n",
    "# print('min_samples_split:',rfc_Model.best_params_['min_samples_split'])\n",
    "# print('min_samples_leaf:',rfc_Model.best_params_['min_samples_leaf'])"
   ]
  },
  {
   "cell_type": "code",
   "execution_count": 38,
   "metadata": {
    "collapsed": true
   },
   "outputs": [],
   "source": [
    "rf = RandomForestClassifier(max_depth=15,n_estimators=500,class_weight='balanced').fit(train_data_dummy,click_t)\n",
    "rf_all = rf.predict_proba(validation_dummy)"
   ]
  },
  {
   "cell_type": "code",
   "execution_count": 41,
   "metadata": {
    "collapsed": true
   },
   "outputs": [],
   "source": [
    "y_rf = rf_all[:,1]"
   ]
  },
  {
   "cell_type": "markdown",
   "metadata": {},
   "source": [
    "### Random forest for Different advertiser"
   ]
  },
  {
   "cell_type": "code",
   "execution_count": 49,
   "metadata": {
    "collapsed": true
   },
   "outputs": [],
   "source": [
    "advertiser_set = [1458,3386,3427,3476,3358,2821,2259,2261,2997]\n",
    "click_rfc_pred = copy.deepcopy(validation_dummy['advertiser'])\n",
    "z5 = validation_dummy.drop('advertiser',axis=1)"
   ]
  },
  {
   "cell_type": "code",
   "execution_count": 50,
   "metadata": {
    "collapsed": true
   },
   "outputs": [],
   "source": [
    "x5 = train_data_dummy.drop('advertiser',axis=1)\n",
    "y5 = click_t\n",
    "\n",
    "for adver in advertiser_set:\n",
    "    rfc_click = RandomForestClassifier(max_depth=6,\\\n",
    "                                       n_estimators=500,\\\n",
    "                                       class_weight='balanced').fit(x5[train_data_dummy['advertiser']==adver],\\\n",
    "                                                                    y5[train_data_dummy['advertiser']==adver])\n",
    "    precollect_rfc = rfc_click.predict_proba(z5[validation_dummy['advertiser']==adver])\n",
    "    click_rfc_pred[validation_dummy['advertiser']==adver]=precollect_rfc[:,1]"
   ]
  },
  {
   "cell_type": "code",
   "execution_count": 52,
   "metadata": {
    "collapsed": true
   },
   "outputs": [],
   "source": [
    "y_ad_rf = np.array(click_rfc_pred)"
   ]
  },
  {
   "cell_type": "markdown",
   "metadata": {},
   "source": [
    "### Gradient Boost for All advertiser"
   ]
  },
  {
   "cell_type": "code",
   "execution_count": null,
   "metadata": {
    "collapsed": true
   },
   "outputs": [],
   "source": [
    "# param_to_tuned = {'max_depth':[3,6,8],\n",
    "#                   'loss':['deviance','exponential'],\n",
    "#                   'criterion':['friedman_mse'],\n",
    "#                   'n_estimators':[500,700,300],\n",
    "#                   'learning_rate':np.linspace(0.01,0.6,6),\n",
    "#                   'subsample':[1,0.8],\n",
    "#                   'min_samples_split':[2],\n",
    "#                   'min_samples_leaf':[1],}\n",
    "# gb_model = GradientBoostingClassifier()    \n",
    "# GB_Model = GridSearchCV(gb_model, param_grid = param_to_tuned, scoring='roc_auc',\\\n",
    "#                         cv=10,refit=True,return_train_score=True)\n",
    "# t = time.time()\n",
    "# GB_Model.fit(train_data_dummy, y_click_train)\n",
    "# print('model training time:',round((time.time()-t)/60,3),'minutes\\n')\n",
    "# print('optimal parameter:')\n",
    "# print('max_depth:',GB_Model.best_params_['max_depth'])\n",
    "# print('n_estimators:',GB_Model.best_params_['n_estimators'])\n",
    "# print('learning_rate:',GB_Model.best_params_['learning_rate'])\n",
    "# print('subsample:',GB_Model.best_params_['subsample'])\n",
    "# print('loss:',GB_Model.best_params_['loss'])"
   ]
  },
  {
   "cell_type": "code",
   "execution_count": 57,
   "metadata": {
    "collapsed": true
   },
   "outputs": [],
   "source": [
    "# gb = GradientBoostingClassifier(loss='exponential', learning_rate=0.1,\\\n",
    "#                                 n_estimators=500,max_depth=6).fit(train_data_dummy,click_t)\n",
    "# gb_all = gb.predict_proba(validation_dummy)"
   ]
  },
  {
   "cell_type": "code",
   "execution_count": null,
   "metadata": {
    "collapsed": true
   },
   "outputs": [],
   "source": [
    "# y_gb = gb_all[:,1]"
   ]
  },
  {
   "cell_type": "markdown",
   "metadata": {},
   "source": [
    "### Gradient Boost for different advertiser "
   ]
  },
  {
   "cell_type": "code",
   "execution_count": null,
   "metadata": {
    "collapsed": true
   },
   "outputs": [],
   "source": [
    "# advertiser_set = [1458,3386,3427,3476,3358,2821,2259,2261,2997]\n",
    "# click_gb_pred = copy.deepcopy(validation_dummy['advertiser'])\n",
    "# z6 = validation_dummy.drop('advertiser',axis=1)"
   ]
  },
  {
   "cell_type": "code",
   "execution_count": null,
   "metadata": {
    "collapsed": true
   },
   "outputs": [],
   "source": [
    "# x6 = train_data_dummy.drop('advertiser',axis=1)\n",
    "# y6 = click_t\n",
    "\n",
    "# for adver in advertiser_set:\n",
    "#     gb_click = GradientBoostingClassifier(loss='exponential', learning_rate=0.1,n_estimators=500,\\\n",
    "#                                           max_depth=6).fit(x6[train_data_dummy['advertiser']==adver],\\\n",
    "#                                                            y6[train_data_dummy['advertiser']==adver])\n",
    "#     precollect_gb = gb_click.predict_proba(z6[validation_dummy['advertiser']==adver])\n",
    "#     click_gb_pred[validation_dummy['advertiser']==adver]=precollect_gb[:,1]\n"
   ]
  },
  {
   "cell_type": "code",
   "execution_count": null,
   "metadata": {
    "collapsed": true
   },
   "outputs": [],
   "source": [
    "# y_ad_gb = np.array(click_gb_pred)"
   ]
  },
  {
   "cell_type": "markdown",
   "metadata": {},
   "source": [
    "### NN for All advertiser"
   ]
  },
  {
   "cell_type": "code",
   "execution_count": 67,
   "metadata": {
    "collapsed": true
   },
   "outputs": [],
   "source": [
    "# param_to_tuned = {'hidden_layer_sizes':[(100,50,2),(300,150,50)],\n",
    "#                   'activation':['relu'],\n",
    "#                   'solver':['adam'],\n",
    "#                   'alpha':[0.0001,0.0005,0.001],\n",
    "#                   'learning_rate_init':np.linspace(0.001,0.007),}\n",
    "# NN_model = MLPClassifier()    \n",
    "# NN_Model = GridSearchCV(NN_model, param_grid = param_to_tuned, scoring='accuracy',\\\n",
    "#                         cv=10,refit=True,return_train_score=True)\n",
    "# t = time.time()\n",
    "# NN_Model.fit(train_data_dummy, y_click_train)\n",
    "# print('model training time:',round((time.time()-t)/60,3),'minutes\\n')\n",
    "# print('optimal parameter:')\n",
    "# print('hidden_layer_sizes:',NN_Model.best_params_['hidden_layer_sizes'])\n",
    "# print('alpha:',NN_Model.best_params_['alpha'])\n",
    "# print('learning_rate_init:',NN_Model.best_params_['learning_rate_init'])"
   ]
  },
  {
   "cell_type": "code",
   "execution_count": 58,
   "metadata": {
    "collapsed": true
   },
   "outputs": [],
   "source": [
    "NN = MLPClassifier(hidden_layer_sizes=(300,150,50),solver='adam', alpha=0.0001).fit(train_data_dummy,click_t)\n",
    "NN_all = NN.predict_proba(validation_dummy)"
   ]
  },
  {
   "cell_type": "code",
   "execution_count": 59,
   "metadata": {
    "collapsed": true
   },
   "outputs": [],
   "source": [
    "y_nn = NN_all[:,1]"
   ]
  },
  {
   "cell_type": "markdown",
   "metadata": {},
   "source": [
    "### NN for different advertiser"
   ]
  },
  {
   "cell_type": "code",
   "execution_count": 61,
   "metadata": {
    "collapsed": true
   },
   "outputs": [],
   "source": [
    "advertiser_set = [1458,3386,3427,3476,3358,2821,2259,2261,2997]\n",
    "click_NN_pred = copy.deepcopy(validation_dummy['advertiser'])\n",
    "z7 = validation_dummy.drop('advertiser',axis=1)"
   ]
  },
  {
   "cell_type": "code",
   "execution_count": 63,
   "metadata": {
    "collapsed": true
   },
   "outputs": [],
   "source": [
    "x7 = train_data_dummy.drop('advertiser',axis=1)\n",
    "y7 = click_t\n",
    "\n",
    "for adver in advertiser_set:\n",
    "    NN_click = MLPClassifier(hidden_layer_sizes=(300,150,50),solver='adam',\\\n",
    "                             alpha=0.0001).fit(x7[train_data_dummy['advertiser']==adver],\\\n",
    "                                               y7[train_data_dummy['advertiser']==adver])\n",
    "    precollect_NN = NN_click.predict_proba(z7[validation_dummy['advertiser']==adver])\n",
    "    click_NN_pred[validation_dummy['advertiser']==adver]=precollect_NN[:,1]"
   ]
  },
  {
   "cell_type": "code",
   "execution_count": 64,
   "metadata": {
    "collapsed": true
   },
   "outputs": [],
   "source": [
    "y_ad_nn = np.array(click_NN_pred)"
   ]
  },
  {
   "cell_type": "markdown",
   "metadata": {},
   "source": [
    "### Extra tree model"
   ]
  },
  {
   "cell_type": "code",
   "execution_count": null,
   "metadata": {
    "collapsed": true
   },
   "outputs": [],
   "source": [
    "etc = ExtraTreesClassifier(n_estimators=500, criterion='gini',max_depth=6,bootstrap=True,\\\n",
    "                           random_state=None,class_weight='balanced').fit(train_data_dummy,click_t)\n",
    "etc_all = ect.predict_proba(validation_dummy)\n",
    "y_etc = etc_all[:,1]"
   ]
  },
  {
   "cell_type": "markdown",
   "metadata": {},
   "source": [
    "### ETC for different advertiser"
   ]
  },
  {
   "cell_type": "code",
   "execution_count": null,
   "metadata": {
    "collapsed": true
   },
   "outputs": [],
   "source": [
    "advertiser_set = [1458,3386,3427,3476,3358,2821,2259,2261,2997]\n",
    "click_etc_pred = copy.deepcopy(validation_dummy['advertiser'])\n",
    "z9 = validation_dummy.drop('advertiser',axis=1)"
   ]
  },
  {
   "cell_type": "code",
   "execution_count": null,
   "metadata": {
    "collapsed": true
   },
   "outputs": [],
   "source": [
    "x9 = train_data_dummy.drop('advertiser',axis=1)\n",
    "y9 = click_t\n",
    "\n",
    "for adver in advertiser_set:\n",
    "    etc_click = ExtraTreesClassifier(n_estimators=500, criterion='gini',max_depth=6,bootstrap=True,\\\n",
    "                           random_state=None,class_weight='balanced').fit(x9[train_data_dummy['advertiser']==adver],\\\n",
    "                                                                          y9[train_data_dummy['advertiser']==adver])\n",
    "    precollect_etc = etc_click.predict_proba(z9[validation_dummy['advertiser']==adver])\n",
    "    click_etc_pred[validation_dummy['advertiser']==adver]=precollect_etc[:,1]"
   ]
  },
  {
   "cell_type": "code",
   "execution_count": null,
   "metadata": {
    "collapsed": true
   },
   "outputs": [],
   "source": [
    "y_ad_etc = np.array(click_etc_pred)"
   ]
  },
  {
   "cell_type": "markdown",
   "metadata": {},
   "source": [
    "# Final result combine results from all models"
   ]
  },
  {
   "cell_type": "code",
   "execution_count": 235,
   "metadata": {},
   "outputs": [],
   "source": [
    "###For all advertisers \n",
    "y_lr = pd.read_csv('/Users/osx/Desktop/LR_All.csv')\n",
    "y_xgb = pd.read_csv('/Users/osx/Desktop/XGB_All.csv')\n",
    "y_rf = pd.read_csv('/Users/osx/Desktop/RF_All.csv')\n",
    "y_nn = pd.read_csv('/Users/osx/Desktop/NN_All.csv')\n",
    "y_etc = pd.read_csv('/Users/osx/Desktop/ET_ALL.csv')\n",
    "\n",
    "###For different advertisers\n",
    "y_ad_lr = pd.read_csv('/Users/osx/Desktop/LR_D.csv')\n",
    "y_ad_xgb = pd.read_csv('/Users/osx/Desktop/LR_D.csv')\n",
    "y_ad_rf = pd.read_csv('/Users/osx/Desktop/LR_D.csv')\n",
    "y_ad_nn = pd.read_csv('/Users/osx/Desktop/LR_D.csv')\n",
    "y_ad_etc = pd.read_csv('/Users/osx/Desktop/LR_D.csv')"
   ]
  },
  {
   "cell_type": "code",
   "execution_count": 236,
   "metadata": {},
   "outputs": [],
   "source": [
    "# y_lr = y_lr.rename(columns ={'0':'lr'})\n",
    "y_lr = y_lr.drop('Unnamed: 0',axis=1)\n",
    "# y_xgb= y_xgb.rename(columns ={'0':'xgb'})\n",
    "y_xgb = y_xgb.drop('Unnamed: 0',axis=1)\n",
    "# y_rf = y_rf.rename(columns ={'0':'rf'})\n",
    "y_rf = y_rf.drop('Unnamed: 0',axis=1)\n",
    "# y_nn = y_nn.rename(columns ={'0':'nn'})\n",
    "y_nn = y_nn.drop('Unnamed: 0',axis=1)\n",
    "# y_etc = y_etc.rename(columns ={'0':'etc'})\n",
    "y_etc = y_etc.drop('Unnamed: 0',axis=1)\n",
    "\n",
    "\n",
    "y_ad_lr = y_ad_lr.drop('index',axis=1)\n",
    "y_ad_xgb = y_ad_xgb.drop('index',axis=1)\n",
    "y_ad_rf = y_ad_rf.drop('index',axis=1)\n",
    "y_ad_nn = y_ad_nn.drop('index',axis=1)\n",
    "y_ad_etc = y_ad_etc.drop('index',axis=1)"
   ]
  },
  {
   "cell_type": "markdown",
   "metadata": {},
   "source": [
    "###### for all advertiser"
   ]
  },
  {
   "cell_type": "code",
   "execution_count": 519,
   "metadata": {},
   "outputs": [],
   "source": [
    "### performance of logisitic regression\n",
    "print(rmse(y_cli2ck_validation,y_lr))\n",
    "print(auc(y_click_validation,y_lr))\n",
    "\n",
    "### performance of xgboost\n",
    "print(rmse(y_click_validation,y_xgb))\n",
    "print(auc(y_click_validation,y_xgb))\n",
    "\n",
    "### performance of random forest\n",
    "print(rmse(y_click_validation,y_rf))\n",
    "print(auc(y_click_validation,y_rf))\n",
    "\n",
    "### performance of nerual network\n",
    "print(rmse(y_click_validation,y_nn))\n",
    "print(auc(y_click_validation,y_nn))\n",
    "\n",
    "\n",
    "## performance of extra tree \n",
    "print(rmse(y_click_validation,y_etc))\n",
    "print(auc(y_click_validation,y_etc))"
   ]
  },
  {
   "cell_type": "markdown",
   "metadata": {},
   "source": [
    "###### Differen advertiser"
   ]
  },
  {
   "cell_type": "code",
   "execution_count": 520,
   "metadata": {},
   "outputs": [],
   "source": [
    "### performance of logisitic regression\n",
    "print(rmse(y_click_validation,y_ad_lr))\n",
    "print(auc(y_click_validation,y_ad_lr))\n",
    "\n",
    "\n",
    "### performance of xgboost\n",
    "print(rmse(y_click_validation,y_ad_xgb))\n",
    "print(auc(y_click_validation,y_ad_xgb))\n",
    "\n",
    "\n",
    "### performance of random forest\n",
    "print(rmse(y_click_validation,y_ad_rf))\n",
    "print(auc(y_click_validation,y_ad_rf))\n",
    "\n",
    "\n",
    "### performance of nerual network\n",
    "print(rmse(y_click_validation,y_ad_nn))\n",
    "print(auc(y_click_validation,y_ad_nn))\n",
    "\n",
    "\n",
    "## performance of extra tree \n",
    "print(rmse(y_click_validation,y_ad_etc))\n",
    "print(auc(y_click_validation,y_ad_etc))"
   ]
  },
  {
   "cell_type": "code",
   "execution_count": 237,
   "metadata": {
    "collapsed": true
   },
   "outputs": [],
   "source": [
    "y_average = (y_lr+y_xgb+y_rf+y_nn+y_etc)/5\n",
    "y_ad_average = (y_ad_lr+y_ad_xgb+y_ad_rf+y_ad_nn+y_ad_etc)/5"
   ]
  },
  {
   "cell_type": "code",
   "execution_count": 240,
   "metadata": {},
   "outputs": [
    {
     "name": "stdout",
     "output_type": "stream",
     "text": [
      "0.252509508632\n",
      "0.70316192126\n",
      "\n",
      "0.461665612819\n",
      "0.661919324883\n"
     ]
    }
   ],
   "source": [
    "print(rmse(y_click_validation,y_average))\n",
    "print(auc(y_click_validation,y_average))\n",
    "print('')\n",
    "print(rmse(y_click_validation,y_ad_average))\n",
    "print(auc(y_click_validation,y_ad_average))"
   ]
  },
  {
   "cell_type": "markdown",
   "metadata": {},
   "source": [
    "### For each advertiser select best model"
   ]
  },
  {
   "cell_type": "code",
   "execution_count": null,
   "metadata": {
    "collapsed": true
   },
   "outputs": [],
   "source": [
    "advertiser_set = [1458,3386,3427,3476,3358,2821,2259,2261,2997]\n",
    "click_various_pred = copy.deepcopy(validation_dummy['advertiser'])\n",
    "z7 = validation_dummy.drop('advertiser',axis=1)"
   ]
  },
  {
   "cell_type": "code",
   "execution_count": 280,
   "metadata": {
    "collapsed": true
   },
   "outputs": [],
   "source": [
    "c_xgb = xgb.XGBClassifier(learning_rate=0.01 ,max_depth=6,n_estimators=700)\n",
    "c_rf = RandomForestClassifier(max_depth=15,n_estimators=500,class_weight='balanced')\n",
    "c_lr = LogisticRegression(class_weight = 'balanced',penalty='l2',solver='liblinear',n_jobs=-1)\n",
    "c_nn = MLPClassifier(hidden_layer_sizes=(300,150,50),solver='adam', alpha=0.0001)\n",
    "c_lda = LinearDiscriminantAnalysis(solver='svd')\n",
    "c_et = ExtraTreesClassifier(n_estimators=500, criterion='gini',max_depth=6,bootstrap=True,\\\n",
    "                           random_state=None,class_weight='balanced')\n",
    "\n",
    "model_set=[c_xgb,c_rf,c_lr,c_nn,c_lda,c_et]"
   ]
  },
  {
   "cell_type": "code",
   "execution_count": null,
   "metadata": {
    "collapsed": true
   },
   "outputs": [],
   "source": [
    "x8 = train_data_dummy.drop('advertiser',axis=1)\n",
    "y8 = click_t\n",
    "auc_c = []\n",
    "rmse_ = []\n",
    "model_c = []\n",
    "for adver in advertiser_set:\n",
    "    for model in model_set:\n",
    "        a = model.fit(x8[train_data_dummy['advertiser']==adver],y8[train_data_dummy['advertiser']==adver])\n",
    "        precollect = a.predict_proba(z7[validation_dummy['advertiser']==adver])\n",
    "#         click_various_pred[validation_dummy['advertiser']==adver]=precollect_NN[:,1]\n",
    "        auc_c.append(auc(click_v[validation_dummy['advertiser']==adver],precollect_NN[:,1]))\n",
    "        rmse_c.append(rmse(click_v[validation_dummy['advertiser']==adver],precollect_NN[:,1]))\n",
    "        model_c.append(model)\n",
    "    print('Advertiser',adver)\n",
    "    print('max auc',max(auc_c),'from',model_c[auc_c.index(max(auc_c))])\n",
    "    print('min rmse',min(rmse_c),'from',model_c[rmse_c.index(min(rmse_c))])"
   ]
  },
  {
   "cell_type": "markdown",
   "metadata": {},
   "source": [
    "##### The out put above is shown below:\n",
    "Advertiser 1458\n",
    "max auc 0.638388995415 from ExtraTreesClassifier\n",
    "min rmse 0.0288466306273 from MLPClassifier\n",
    "\n",
    "Advertiser 3386\n",
    "max auc 0.710998369021 from XGBClassifier\n",
    "min rmse 0.0244841121181 from XGBClassifier\n",
    "\n",
    "Advertiser 3427\n",
    "max auc 0.726087138871 from XGBClassifier\n",
    "min rmse 0.0244841121181 from XGBClassifier\n",
    "\n",
    "Advertiser 3476\n",
    "max auc 0.726087138871 from XGBClassifier\n",
    "min rmse 0.0183078721032 from MLPClassifier\n",
    "\n",
    "Advertiser 3358\n",
    "max auc 0.735850791961 from MLPClassifier\n",
    "min rmse 0.0183078721032 from MLPClassifier\n",
    "\n",
    "Advertiser 2821\n",
    "max auc 0.735850791961 from MLPClassifier\n",
    "min rmse 0.0183078721032 from MLPClassifier\n",
    "\n",
    "Advertiser 2259\n",
    "max auc 0.735850791961 from MLPClassifier\n",
    "min rmse 0.0183078721032 from MLPClassifier\n",
    "\n",
    "Advertiser 2261\n",
    "max auc 0.735850791961 from MLPClassifier\n",
    "min rmse 0.0183078721032 from MLPClassifier\n",
    "\n",
    "Advertiser 2997\n",
    "max auc 0.735850791961 from MLPClassifier\n",
    "min rmse 0.0183078721032 from MLPClassifier"
   ]
  },
  {
   "cell_type": "markdown",
   "metadata": {},
   "source": [
    "##### to get the results"
   ]
  },
  {
   "cell_type": "code",
   "execution_count": null,
   "metadata": {
    "collapsed": true
   },
   "outputs": [],
   "source": [
    "advertiser_set = [1458,3386,3427,3476,3358,2821,2259,2261,2997]\n",
    "click_fengshou_pred = copy.deepcopy(validation_dummy['advertiser'])\n",
    "z10 = validation_dummy.drop('advertiser',axis=1)\n",
    "x10 = train_data_dummy.drop('advertiser',axis=1)\n",
    "y10 = click_t\n",
    "\n",
    "for adver in advertiser_set:\n",
    "    if adver == 1458:\n",
    "        a = c_et.fit(x10[train_data_dummy['advertiser']==adver],\\\n",
    "                             y10[train_data_dummy['advertiser']==adver])\n",
    "        precollect_etc = a.predict_proba(z10[validation_dummy['advertiser']==adver])\n",
    "        click_fengshou_pred[validation_dummy['advertiser']==adver]=precollect_etc[:,1]\n",
    "    \n",
    "    if adver == 3386:\n",
    "        b = c_xgb.fit(x10[train_data_dummy['advertiser']==adver],\\\n",
    "                             y10[train_data_dummy['advertiser']==adver])\n",
    "        precollect_etc = b.predict_proba(z10[validation_dummy['advertiser']==adver])\n",
    "        click_fengshou_pred[validation_dummy['advertiser']==adver]=precollect_etc[:,1]\n",
    "    \n",
    "    if adver == 3427:\n",
    "        c = c_xgb.fit(x10[train_data_dummy['advertiser']==adver],\\\n",
    "                              y10[train_data_dummy['advertiser']==adver])\n",
    "        precollect_XGB = c.predict_proba(z10[validation_dummy['advertiser']==adver])\n",
    "        click_fengshou_pred[validation_dummy['advertiser']==adver]=precollect_XGB[:,1]\n",
    "        \n",
    "    \n",
    "    if adver == 3476:\n",
    "        d = c_xgb.fit(x10[train_data_dummy['advertiser']==adver],\\\n",
    "                      y10[train_data_dummy['advertiser']==adver]) \n",
    "        precollect_LR = d.predict_proba(z10[validation_dummy['advertiser']==adver])\n",
    "        click_fengshou_pred[validation_dummy['advertiser']==adver]=precollect_LR[:,1]\n",
    "    \n",
    "    if adver == 3358:\n",
    "        e = c_nn.fit(x10[train_data_dummy['advertiser']==adver],\\\n",
    "                      y10[train_data_dummy['advertiser']==adver]) \n",
    "        precollect_LR = e.predict_proba(z10[validation_dummy['advertiser']==adver])\n",
    "        click_fengshou_pred[validation_dummy['advertiser']==adver]=precollect_LR[:,1]\n",
    "    \n",
    "    if adver == 2821:\n",
    "        f = c_nn.fit(x10[train_data_dummy['advertiser']==adver],\\\n",
    "                      y10[train_data_dummy['advertiser']==adver]) \n",
    "        precollect_LR = f.predict_proba(z10[validation_dummy['advertiser']==adver])\n",
    "        click_fengshou_pred[validation_dummy['advertiser']==adver]=precollect_LR[:,1]\n",
    "    \n",
    "    if adver == 2259:\n",
    "        g = c_nn.fit(x10[train_data_dummy['advertiser']==adver],\\\n",
    "                      y10[train_data_dummy['advertiser']==adver]) \n",
    "        precollect_LR = g.predict_proba(z10[validation_dummy['advertiser']==adver])\n",
    "        click_fengshou_pred[validation_dummy['advertiser']==adver]=precollect_LR[:,1]\n",
    "    \n",
    "    if adver == 2261:\n",
    "        h = c_nn.fit(x10[train_data_dummy['advertiser']==adver],\\\n",
    "                      y10[train_data_dummy['advertiser']==adver]) \n",
    "        precollect_LR = h.predict_proba(z10[validation_dummy['advertiser']==adver])\n",
    "        click_fengshou_pred[validation_dummy['advertiser']==adver]=precollect_LR[:,1]\n",
    "    \n",
    "    if adver == 2997:\n",
    "        i = c_nn.fit(x10[train_data_dummy['advertiser']==adver],\\\n",
    "                      y10[train_data_dummy['advertiser']==adver]) \n",
    "        precollect_LR = i.predict_proba(z10[validation_dummy['advertiser']==adver])\n",
    "        click_fengshou_pred[validation_dummy['advertiser']==adver]=precollect_LR[:,1]"
   ]
  },
  {
   "cell_type": "code",
   "execution_count": 108,
   "metadata": {
    "collapsed": true
   },
   "outputs": [],
   "source": [
    "final = pd.read_csv('/Users/osx/Desktop/need_download.csv')"
   ]
  },
  {
   "cell_type": "code",
   "execution_count": 114,
   "metadata": {},
   "outputs": [
    {
     "name": "stdout",
     "output_type": "stream",
     "text": [
      "0.210678318721\n",
      "0.628998950514\n"
     ]
    }
   ],
   "source": [
    "final = np.array(final[:,1])\n",
    "print(rmse(y_click_validation,final))\n",
    "print(auc(y_click_validation,final))"
   ]
  },
  {
   "cell_type": "markdown",
   "metadata": {},
   "source": [
    "### Validation data testing"
   ]
  },
  {
   "cell_type": "code",
   "execution_count": 111,
   "metadata": {
    "collapsed": true
   },
   "outputs": [],
   "source": [
    "def rmse(y_true, y_pred):\n",
    "    return np.sqrt(mse(y_true, y_pred))"
   ]
  },
  {
   "cell_type": "code",
   "execution_count": 128,
   "metadata": {},
   "outputs": [
    {
     "data": {
      "text/plain": [
       "0.0007634541910594785"
      ]
     },
     "execution_count": 128,
     "metadata": {},
     "output_type": "execute_result"
    }
   ],
   "source": [
    "avg_CTR = y_click_train.sum()/len(y_click_train)\n",
    "avg_CTR"
   ]
  },
  {
   "cell_type": "code",
   "execution_count": 123,
   "metadata": {},
   "outputs": [
    {
     "data": {
      "text/plain": [
       "226"
      ]
     },
     "execution_count": 123,
     "metadata": {},
     "output_type": "execute_result"
    }
   ],
   "source": [
    "y_click_validation.sum()"
   ]
  },
  {
   "cell_type": "code",
   "execution_count": 314,
   "metadata": {},
   "outputs": [
    {
     "data": {
      "text/html": [
       "<div>\n",
       "<table border=\"1\" class=\"dataframe\">\n",
       "  <thead>\n",
       "    <tr style=\"text-align: right;\">\n",
       "      <th></th>\n",
       "      <th>0</th>\n",
       "    </tr>\n",
       "  </thead>\n",
       "  <tbody>\n",
       "    <tr>\n",
       "      <th>count</th>\n",
       "      <td>2.997490e+05</td>\n",
       "    </tr>\n",
       "    <tr>\n",
       "      <th>mean</th>\n",
       "      <td>9.369306e-02</td>\n",
       "    </tr>\n",
       "    <tr>\n",
       "      <th>std</th>\n",
       "      <td>1.871547e-01</td>\n",
       "    </tr>\n",
       "    <tr>\n",
       "      <th>min</th>\n",
       "      <td>3.740000e-13</td>\n",
       "    </tr>\n",
       "    <tr>\n",
       "      <th>25%</th>\n",
       "      <td>7.621400e-04</td>\n",
       "    </tr>\n",
       "    <tr>\n",
       "      <th>50%</th>\n",
       "      <td>1.114239e-03</td>\n",
       "    </tr>\n",
       "    <tr>\n",
       "      <th>75%</th>\n",
       "      <td>2.797248e-03</td>\n",
       "    </tr>\n",
       "    <tr>\n",
       "      <th>max</th>\n",
       "      <td>8.665485e-01</td>\n",
       "    </tr>\n",
       "  </tbody>\n",
       "</table>\n",
       "</div>"
      ],
      "text/plain": [
       "                  0\n",
       "count  2.997490e+05\n",
       "mean   9.369306e-02\n",
       "std    1.871547e-01\n",
       "min    3.740000e-13\n",
       "25%    7.621400e-04\n",
       "50%    1.114239e-03\n",
       "75%    2.797248e-03\n",
       "max    8.665485e-01"
      ]
     },
     "execution_count": 314,
     "metadata": {},
     "output_type": "execute_result"
    }
   ],
   "source": [
    "pd.DataFrame(final).describe()"
   ]
  },
  {
   "cell_type": "code",
   "execution_count": 351,
   "metadata": {},
   "outputs": [
    {
     "data": {
      "text/html": [
       "<div>\n",
       "<table border=\"1\" class=\"dataframe\">\n",
       "  <thead>\n",
       "    <tr style=\"text-align: right;\">\n",
       "      <th></th>\n",
       "      <th>0</th>\n",
       "    </tr>\n",
       "  </thead>\n",
       "  <tbody>\n",
       "    <tr>\n",
       "      <th>count</th>\n",
       "      <td>2.997490e+05</td>\n",
       "    </tr>\n",
       "    <tr>\n",
       "      <th>mean</th>\n",
       "      <td>6.136128e+00</td>\n",
       "    </tr>\n",
       "    <tr>\n",
       "      <th>std</th>\n",
       "      <td>1.225710e+01</td>\n",
       "    </tr>\n",
       "    <tr>\n",
       "      <th>min</th>\n",
       "      <td>2.449394e-11</td>\n",
       "    </tr>\n",
       "    <tr>\n",
       "      <th>25%</th>\n",
       "      <td>4.991393e-02</td>\n",
       "    </tr>\n",
       "    <tr>\n",
       "      <th>50%</th>\n",
       "      <td>7.297353e-02</td>\n",
       "    </tr>\n",
       "    <tr>\n",
       "      <th>75%</th>\n",
       "      <td>1.831968e-01</td>\n",
       "    </tr>\n",
       "    <tr>\n",
       "      <th>max</th>\n",
       "      <td>5.675183e+01</td>\n",
       "    </tr>\n",
       "  </tbody>\n",
       "</table>\n",
       "</div>"
      ],
      "text/plain": [
       "                  0\n",
       "count  2.997490e+05\n",
       "mean   6.136128e+00\n",
       "std    1.225710e+01\n",
       "min    2.449394e-11\n",
       "25%    4.991393e-02\n",
       "50%    7.297353e-02\n",
       "75%    1.831968e-01\n",
       "max    5.675183e+01"
      ]
     },
     "execution_count": 351,
     "metadata": {},
     "output_type": "execute_result"
    }
   ],
   "source": [
    "pd.DataFrame(final/(20*avg_CTR)).describe()"
   ]
  },
  {
   "cell_type": "code",
   "execution_count": 395,
   "metadata": {},
   "outputs": [
    {
     "name": "stdout",
     "output_type": "stream",
     "text": [
      "1\n",
      "Get 87039.0 impression\n",
      "Get 84 clicks\n",
      "Spend 6250038.0 money\n",
      "\n",
      "2\n",
      "Get 111187.0 impression\n",
      "Get 110 clicks\n",
      "Spend 6250022.0 money\n",
      "\n",
      "3\n",
      "Get 102519.0 impression\n",
      "Get 101 clicks\n",
      "Spend 5733950.0 money\n",
      "\n",
      "4\n",
      "Get 77129.0 impression\n",
      "Get 75 clicks\n",
      "Spend 6250024.0 money\n",
      "\n",
      "5\n",
      "Get 109303.0 impression\n",
      "Get 108 clicks\n",
      "Spend 6141418.0 money\n",
      "\n",
      "6\n",
      "Get 109777.0 impression\n",
      "Get 109 clicks\n",
      "Spend 6169181.0 money\n",
      "\n"
     ]
    }
   ],
   "source": [
    "# click_v = click_v.reset_index().drop('index',axis=1)\n",
    "base_bid_1 = y_payprice_train.mean()#+0.5*y_payprice_validation.mean()\n",
    "base_bid_2 = base_bid_1/4.6\n",
    "base_bid_3 = base_bid_1/5.7880\n",
    "base_bid_4 = y_bidprice_train.mean()\n",
    "base_bid_5 = base_bid_4/17.0\n",
    "base_bid_6 = base_bid_4/16.8\n",
    "bidding_set = [base_bid_1,base_bid_2,base_bid_3,base_bid_4,base_bid_5,base_bid_6]\n",
    "bid_number = 0\n",
    "    \n",
    "for j in bidding_set:\n",
    "    bid_number +=1\n",
    "    bidding = j*np.exp(final/(2*avg_CTR))*(np.log(final/avg_CTR)/abs(np.log(final/(avg_CTR))))\n",
    "    \n",
    "    impression = 0\n",
    "    get_click = 0\n",
    "    get_cost_1 = 0.0\n",
    "    get_cost_2 = 0.0\n",
    "    budget = 6250000\n",
    "    for i in y_payprice_validation.index:\n",
    "#         get_cost_2 += y_payprice_validation[i]\n",
    "        if get_cost_1>=budget:\n",
    "            break\n",
    "        if y_payprice_validation[i]<bidding[i]:\n",
    "            get_click += click_v.ix[i,'click']\n",
    "            impression +=1.0\n",
    "            get_cost_1 += y_payprice_validation[i]\n",
    "    \n",
    "    print(bid_number)\n",
    "    print('Get',impression,'impression')\n",
    "    print('Get',get_click,'clicks')\n",
    "    print('Spend',get_cost_1,'money')\n",
    "    print('')"
   ]
  },
  {
   "cell_type": "code",
   "execution_count": 410,
   "metadata": {},
   "outputs": [
    {
     "name": "stdout",
     "output_type": "stream",
     "text": [
      "6\n",
      "Get 111187.0 impression\n",
      "Get 110 clicks\n",
      "Spend 6250022.0 money\n",
      "\n"
     ]
    }
   ],
   "source": [
    "j = base_bid_1/4.6\n",
    "bidding = j*np.exp(final/(2*avg_CTR))*(np.log(final/avg_CTR)/abs(np.log(final/(avg_CTR))))\n",
    "    \n",
    "impression = 0\n",
    "get_click = 0\n",
    "get_cost_1 = 0.0\n",
    "get_cost_2 = 0.0\n",
    "budget = 6250000/1\n",
    "for i in y_payprice_validation.index:\n",
    "#         get_cost_2 += y_payprice_validation[i]\n",
    "    if get_cost_1>=budget:\n",
    "        break\n",
    "    if y_payprice_validation[i]<bidding[i]:\n",
    "        get_click += click_v.ix[i,'click']\n",
    "        impression +=1.0\n",
    "        get_cost_1 += y_payprice_validation[i]\n",
    "    \n",
    "print(bid_number)\n",
    "print('Get',impression,'impression')\n",
    "print('Get',get_click,'clicks')\n",
    "print('Spend',get_cost_1,'money')\n",
    "print('')"
   ]
  },
  {
   "cell_type": "code",
   "execution_count": 418,
   "metadata": {
    "collapsed": true
   },
   "outputs": [],
   "source": [
    "budget=[6250000/32,6250000/16,6250000/8,6250000/4,6250000/2,6250000]\n",
    "imps = [3416,6827,13680,27799,55833,111187]\n",
    "cpc = [195535/6,390665.0/11,781296.0/19,1562509.0/32,3125029.0/55,6250022.0/110]\n",
    "click = [6,11,19,32,55,110]\n",
    "CTR = [6/3416,11/6827,19/13680,32/27799,55/55833,110/111187]"
   ]
  },
  {
   "cell_type": "code",
   "execution_count": 420,
   "metadata": {},
   "outputs": [
    {
     "data": {
      "image/png": "[encoded data removed]",
      "text/plain": [
       "<matplotlib.figure.Figure at 0x11e7d6208>"
      ]
     },
     "metadata": {},
     "output_type": "display_data"
    }
   ],
   "source": [
    "fig, ax1 = plt.subplots()\n",
    "\n",
    "ax2 = ax1.twinx()\n",
    "ax1.plot(budget, imps, 'r-')\n",
    "ax2.plot(budget, cpc, 'b-')\n",
    "\n",
    "ax1.set_xlabel('Budget')\n",
    "ax1.set_ylabel('#imps', color='r')\n",
    "ax2.set_ylabel('CPC', color='b')\n",
    "\n",
    "plt.show()"
   ]
  },
  {
   "cell_type": "code",
   "execution_count": 421,
   "metadata": {},
   "outputs": [
    {
     "data": {
      "image/png": "[encoded data removed]",
      "text/plain": [
       "<matplotlib.figure.Figure at 0x121cf0dd8>"
      ]
     },
     "metadata": {},
     "output_type": "display_data"
    }
   ],
   "source": [
    "fig, ax1 = plt.subplots()\n",
    "\n",
    "ax2 = ax1.twinx()\n",
    "ax1.plot(budget, click, 'r-')\n",
    "ax2.plot(budget, CTR, 'b-')\n",
    "\n",
    "ax1.set_xlabel('Budget')\n",
    "ax1.set_ylabel('#click', color='r')\n",
    "ax2.set_ylabel('CTR', color='b')\n",
    "\n",
    "plt.show()"
   ]
  },
  {
   "cell_type": "markdown",
   "metadata": {},
   "source": [
    "### Test"
   ]
  },
  {
   "cell_type": "code",
   "execution_count": 281,
   "metadata": {
    "collapsed": true
   },
   "outputs": [],
   "source": [
    "c_xgb = xgb.XGBClassifier(learning_rate=0.01 ,max_depth=6,n_estimators=700)\n",
    "c_rf = RandomForestClassifier(max_depth=15,n_estimators=500,class_weight='balanced')\n",
    "c_lr = LogisticRegression(class_weight = 'balanced',penalty='l2',solver='liblinear',n_jobs=-1)\n",
    "c_nn = MLPClassifier(hidden_layer_sizes=(300,150,50),solver='adam', alpha=0.0001)\n",
    "c_lda = LinearDiscriminantAnalysis(solver='svd')\n",
    "c_et = ExtraTreesClassifier(n_estimators=500, criterion='gini',max_depth=6,bootstrap=True,\\\n",
    "                           random_state=None,class_weight='balanced')\n",
    "\n",
    "model_set=[c_xgb,c_rf,c_lr,c_nn,c_lda,c_et]"
   ]
  },
  {
   "cell_type": "code",
   "execution_count": 283,
   "metadata": {},
   "outputs": [],
   "source": [
    "advertiser_set = [1458,3386,3427,3476,3358,2821,2259,2261,2997]\n",
    "click_fengshoulo_pred = copy.deepcopy(test_data_dummy['advertiser'])\n",
    "z11 = test_data_dummy.drop('advertiser',axis=1)\n",
    "x11 = train_data_dummy.drop('advertiser',axis=1)\n",
    "y11 = click_t\n",
    "\n",
    "for adver in advertiser_set:\n",
    "    if adver == 1458:\n",
    "        a = c_et.fit(x11[train_data_dummy['advertiser']==adver],\\\n",
    "                     y11[train_data_dummy['advertiser']==adver])\n",
    "        precollect_etc = a.predict_proba(z11[test_data_dummy['advertiser']==adver])\n",
    "        click_fengshoulo_pred[test_data_dummy['advertiser']==adver]=precollect_etc[:,1]\n",
    "    \n",
    "    if adver == 3386:\n",
    "        b = c_xgb.fit(x11[train_data_dummy['advertiser']==adver],\\\n",
    "                      y11[train_data_dummy['advertiser']==adver])\n",
    "        precollect_etc = b.predict_proba(z11[test_data_dummy['advertiser']==adver])\n",
    "        click_fengshoulo_pred[test_data_dummy['advertiser']==adver]=precollect_etc[:,1]\n",
    "    \n",
    "    if adver == 3427:\n",
    "        c = c_xgb.fit(x11[train_data_dummy['advertiser']==adver],\\\n",
    "                      y11[train_data_dummy['advertiser']==adver])\n",
    "        precollect_XGB = c.predict_proba(z11[test_data_dummy['advertiser']==adver])\n",
    "        click_fengshoulo_pred[test_data_dummy['advertiser']==adver]=precollect_XGB[:,1]\n",
    "        \n",
    "    \n",
    "    if adver == 3476:\n",
    "        d = c_xgb.fit(x11[train_data_dummy['advertiser']==adver],\\\n",
    "                      y11[train_data_dummy['advertiser']==adver]) \n",
    "        precollect_LR = d.predict_proba(z11[test_data_dummy['advertiser']==adver])\n",
    "        click_fengshoulo_pred[test_data_dummy['advertiser']==adver]=precollect_LR[:,1]\n",
    "    \n",
    "    if adver == 3358:\n",
    "        e = c_nn.fit(x11[train_data_dummy['advertiser']==adver],\\\n",
    "                     y11[train_data_dummy['advertiser']==adver]) \n",
    "        precollect_LR = e.predict_proba(z11[test_data_dummy['advertiser']==adver])\n",
    "        click_fengshoulo_pred[test_data_dummy['advertiser']==adver]=precollect_LR[:,1]\n",
    "    \n",
    "    if adver == 2821:\n",
    "        f = c_nn.fit(x11[train_data_dummy['advertiser']==adver],\\\n",
    "                     y11[train_data_dummy['advertiser']==adver]) \n",
    "        precollect_LR = f.predict_proba(z11[test_data_dummy['advertiser']==adver])\n",
    "        click_fengshoulo_pred[test_data_dummy['advertiser']==adver]=precollect_LR[:,1]\n",
    "    \n",
    "    if adver == 2259:\n",
    "        g = c_nn.fit(x11[train_data_dummy['advertiser']==adver],\\\n",
    "                     y11[train_data_dummy['advertiser']==adver]) \n",
    "        precollect_LR = g.predict_proba(z11[test_data_dummy['advertiser']==adver])\n",
    "        click_fengshoulo_pred[test_data_dummy['advertiser']==adver]=precollect_LR[:,1]\n",
    "    \n",
    "    if adver == 2261:\n",
    "        h = c_nn.fit(x11[train_data_dummy['advertiser']==adver],\\\n",
    "                     y11[train_data_dummy['advertiser']==adver]) \n",
    "        precollect_LR = h.predict_proba(z11[test_data_dummy['advertiser']==adver])\n",
    "        click_fengshoulo_pred[test_data_dummy['advertiser']==adver]=precollect_LR[:,1]\n",
    "    \n",
    "    if adver == 2997:\n",
    "        i = c_nn.fit(x11[train_data_dummy['advertiser']==adver],\\\n",
    "                     y11[train_data_dummy['advertiser']==adver]) \n",
    "        precollect_LR = i.predict_proba(z11[test_data_dummy['advertiser']==adver])\n",
    "        click_fengshoulo_pred[test_data_dummy['advertiser']==adver]=precollect_LR[:,1]"
   ]
  },
  {
   "cell_type": "code",
   "execution_count": 290,
   "metadata": {},
   "outputs": [],
   "source": [
    "click_fengshoulo_pred = click_fengshoulo_pred.reset_index()\n",
    "click_fengshoulo_pred = click_fengshoulo_pred.drop('index',axis=1)\n",
    "click_fengshoulo_pred = click_fengshoulo_pred.rename(columns={'advertiser':'CTR'})"
   ]
  },
  {
   "cell_type": "code",
   "execution_count": 292,
   "metadata": {},
   "outputs": [],
   "source": [
    "click_fengshoulo_pred.to_csv('CTR_test.csv')"
   ]
  },
  {
   "cell_type": "markdown",
   "metadata": {},
   "source": [
    "###### save the csv file"
   ]
  },
  {
   "cell_type": "code",
   "execution_count": 514,
   "metadata": {},
   "outputs": [],
   "source": [
    "ctr_test = pd.read_csv('/Users/osx/Desktop/web-datamining/web_economics/CTR_test.csv')\n",
    "test_data_bid  = pd.read_csv('/Users/osx/Desktop/web-datamining/web_economics/dataset/test.csv')\n",
    "bidid = test_data_bid['bidid']\n",
    "ctr_test = ctr_test.drop('Unnamed: 0',axis=1)\n",
    "ctr_test['bidid'] = bidid\n",
    "pCTR = ctr_test['CTR']\n",
    "ctr_test['bidprice']=(base_bid_1/4.6)*np.exp(pCTR/(2*avg_CTR))*(np.log(pCTR/avg_CTR)/abs(np.log(pCTR/avg_CTR)))\n",
    "Test_bidding = ctr_test.drop('CTR',axis=1)"
   ]
  },
  {
   "cell_type": "code",
   "execution_count": 518,
   "metadata": {},
   "outputs": [],
   "source": [
    "Test_bidding.to_csv('Test_bidding.csv',index=False)"
   ]
  }
 ],
 "metadata": {
  "kernelspec": {
   "display_name": "Python 3",
   "language": "python",
   "name": "python3"
  },
  "language_info": {
   "codemirror_mode": {
    "name": "ipython",
    "version": 3
   },
   "file_extension": ".py",
   "mimetype": "text/x-python",
   "name": "python",
   "nbconvert_exporter": "python",
   "pygments_lexer": "ipython3",
   "version": "3.6.0"
  }
 },
 "nbformat": 4,
 "nbformat_minor": 1
}
